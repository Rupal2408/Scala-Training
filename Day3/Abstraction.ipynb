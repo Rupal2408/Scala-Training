{
 "cells": [
  {
   "cell_type": "markdown",
   "metadata": {},
   "source": [
    "## Access specifiers\n",
    "Access specifiers (or access modifiers) determine the visibility of classes, objects, traits, and members (fields and methods) within the code.\n",
    "\n",
    "### 1. Private\n",
    "When a member is declared as private, we can only use it inside defining class or through one of its objects."
   ]
  },
  {
   "cell_type": "code",
   "execution_count": 10,
   "metadata": {},
   "outputs": [
    {
     "name": "stdout",
     "output_type": "stream",
     "text": [
      "James\n"
     ]
    },
    {
     "data": {
      "text/html": [
       "<div class=\"jp-RenderedText\">\n",
       "<pre><code>defined <span style=\"color: rgb(0, 187, 0)\"><span class=\"ansi-green-fg\">class</span></span> <span style=\"color: rgb(0, 187, 187)\"><span class=\"ansi-cyan-fg\">Employee</span></span>\n",
       "<span style=\"color: rgb(0, 187, 187)\"><span class=\"ansi-cyan-fg\">obj</span></span>: <span style=\"color: rgb(0, 187, 0)\"><span class=\"ansi-green-fg\">Employee</span></span> = ammonite.$sess.cmd10$Helper$Employee@5199a060</code></pre>\n",
       "</div>"
      ],
      "text/plain": [
       "defined \u001b[32mclass\u001b[39m \u001b[36mEmployee\u001b[39m\n",
       "\u001b[36mobj\u001b[39m: \u001b[32mEmployee\u001b[39m = ammonite.$sess.cmd10$Helper$Employee@5199a060"
      ]
     },
     "metadata": {},
     "output_type": "display_data"
    }
   ],
   "source": [
    "class Employee {\n",
    "  private val name: String = \"James\" // Accessible only within Employee\n",
    "    def display() : Unit = { \n",
    "        println(name) \n",
    "    }\n",
    "} \n",
    "\n",
    "var obj = new Employee() \n",
    "obj.display()"
   ]
  },
  {
   "cell_type": "markdown",
   "metadata": {},
   "source": [
    "### 2. Protected\n",
    "They can be only accessible from sub classes of the base class in which the member has been defined."
   ]
  },
  {
   "cell_type": "code",
   "execution_count": 18,
   "metadata": {},
   "outputs": [
    {
     "name": "stdout",
     "output_type": "stream",
     "text": [
      "Message: Welcome Everyone!!\n",
      "Scala is an amazing language.\n"
     ]
    },
    {
     "data": {
      "text/plain": [
       "defined \u001b[32mclass\u001b[39m \u001b[36mLanguage\u001b[39m\n",
       "defined \u001b[32mclass\u001b[39m \u001b[36mScala\u001b[39m\n",
       "\u001b[36mscala\u001b[39m: \u001b[32mScala\u001b[39m = ammonite.$sess.cmd18$Helper$Scala@61ac050c"
      ]
     },
     "execution_count": 18,
     "metadata": {},
     "output_type": "execute_result"
    }
   ],
   "source": [
    "// Base class\n",
    "class Language {\n",
    "  protected val message: String = \"Welcome Everyone!!\"\n",
    "\n",
    "  protected def display(lang:String): Unit = {\n",
    "    println(s\"$lang is an amazing language.\")\n",
    "  }\n",
    "}\n",
    "\n",
    "// Subclass\n",
    "class Scala extends Language {\n",
    "  def displayInfo(): Unit = {\n",
    "    println(s\"Message: $message\") // Accessing protected member\n",
    "    display(\"Scala\")                  // Calling protected method\n",
    "  }\n",
    "}\n",
    "\n",
    "  val scala = new Scala\n",
    "  scala.displayInfo()"
   ]
  },
  {
   "cell_type": "markdown",
   "metadata": {},
   "source": [
    "### 3. Public\n",
    "There is no public keyword in Scala. If no access modifier is specified, members are public by default. Members are accessible from anywhere in the code."
   ]
  },
  {
   "cell_type": "code",
   "execution_count": 1,
   "metadata": {},
   "outputs": [
    {
     "name": "stdout",
     "output_type": "stream",
     "text": [
      "Hello Scala!!\n"
     ]
    },
    {
     "data": {
      "text/plain": [
       "defined \u001b[32mclass\u001b[39m \u001b[36mDocument\u001b[39m\n",
       "\u001b[36mobj\u001b[39m: \u001b[32mDocument\u001b[39m = ammonite.$sess.cmd1$Helper$Document@944e2e5"
      ]
     },
     "execution_count": 1,
     "metadata": {},
     "output_type": "execute_result"
    }
   ],
   "source": [
    "class Document{\n",
    "    val message: String = \"Hello Scala!!\"\n",
    "}\n",
    "\n",
    "val obj = new Document()\n",
    "println(obj.message)"
   ]
  },
  {
   "cell_type": "markdown",
   "metadata": {},
   "source": [
    "## Abstract class\n",
    "\n"
   ]
  },
  {
   "cell_type": "code",
   "execution_count": null,
   "metadata": {},
   "outputs": [],
   "source": []
  }
 ],
 "metadata": {
  "kernelspec": {
   "display_name": "Scala",
   "language": "scala",
   "name": "scala"
  },
  "language_info": {
   "codemirror_mode": "text/x-scala",
   "file_extension": ".sc",
   "mimetype": "text/x-scala",
   "name": "scala",
   "nbconvert_exporter": "script",
   "version": "2.13.14"
  }
 },
 "nbformat": 4,
 "nbformat_minor": 2
}
