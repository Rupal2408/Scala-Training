{
 "cells": [
  {
   "cell_type": "markdown",
   "metadata": {},
   "source": [
    "## Class\n",
    "A class is a blueprint for creating objects. It encapsulates data and behavior in a single unit.\n",
    "\n",
    "## Instance Variables\n",
    "\n",
    " Instance variable is a variable that is tied to a specific instance of a class. Instance variables are defined within a class and represent the state of each instance."
   ]
  },
  {
   "cell_type": "code",
   "execution_count": 2,
   "metadata": {},
   "outputs": [
    {
     "name": "stdout",
     "output_type": "stream",
     "text": [
      "Model: Ford, Price: 2500000\n",
      "Model: Ford, Price: 3000000\n"
     ]
    },
    {
     "data": {
      "text/plain": [
       "defined \u001b[32mclass\u001b[39m \u001b[36mCar\u001b[39m\n",
       "\u001b[36mcar\u001b[39m: \u001b[32mCar\u001b[39m = ammonite.$sess.cmd2$Helper$Car@5999aab2"
      ]
     },
     "execution_count": 2,
     "metadata": {},
     "output_type": "execute_result"
    }
   ],
   "source": [
    "class Car(val model: String, private var price: Int) {\n",
    "  \n",
    "  def getPrice: Int = price\n",
    "  \n",
    "  def setPrice(newPrice: Int): Unit = {\n",
    "    price = newPrice \n",
    "  }\n",
    "  \n",
    "  def displayInfo(): Unit = {\n",
    "    println(s\"Model: $model, Price: $price\")\n",
    "  }\n",
    "}\n",
    "\n",
    "val car = new Car(\"Ford\", 2500000)\n",
    "car.displayInfo()\n",
    "\n",
    "car.setPrice(3000000)\n",
    "car.displayInfo()"
   ]
  },
  {
   "cell_type": "markdown",
   "metadata": {},
   "source": [
    "## Constructors\n",
    "Constructors are special methods that are called when an instance of a class is created. Scala supports two types of constructors: primary constructors and secondary constructors.\n",
    "\n",
    "### Primary Constructors: \n",
    "Primary constructors are defined within the class declaration itself. They specify the parameters required to create an instance of the class.\n",
    "\n",
    "### Auxiliary Constructors: \n",
    "Auxiliary constructors are additional constructors defined using the def this() syntax. They allow us to provide alternative ways to construct objects of the class."
   ]
  },
  {
   "cell_type": "code",
   "execution_count": 4,
   "metadata": {},
   "outputs": [
    {
     "name": "stdout",
     "output_type": "stream",
     "text": [
      "Area of rectangle: 50.0\n",
      "Area of square: 16.0\n"
     ]
    },
    {
     "data": {
      "text/plain": [
       "defined \u001b[32mclass\u001b[39m \u001b[36mRectangle\u001b[39m\n",
       "\u001b[36mrect\u001b[39m: \u001b[32mRectangle\u001b[39m = ammonite.$sess.cmd4$Helper$Rectangle@441b612\n",
       "\u001b[36msquare\u001b[39m: \u001b[32mRectangle\u001b[39m = ammonite.$sess.cmd4$Helper$Rectangle@47a67908"
      ]
     },
     "execution_count": 4,
     "metadata": {},
     "output_type": "execute_result"
    }
   ],
   "source": [
    "class Rectangle(val width: Double, val height: Double) {\n",
    "  // Primary constructor\n",
    "  def this(size: Double) = this(size, size) // Secondary constructor for squares\n",
    "  \n",
    "  def area: Double = width * height\n",
    "}\n",
    "\n",
    "val rect = new Rectangle(5.0, 10.0)\n",
    "println(s\"Area of rectangle: ${rect.area}\") \n",
    "val square = new Rectangle(4.0) // Using secondary constructor\n",
    "println(s\"Area of square: ${square.area}\")\n"
   ]
  },
  {
   "cell_type": "markdown",
   "metadata": {},
   "source": [
    "## Encapsulation\n",
    "\n",
    "It describes the idea of bundling data and methods that work on that data within a class."
   ]
  },
  {
   "cell_type": "code",
   "execution_count": 9,
   "metadata": {},
   "outputs": [
    {
     "name": "stdout",
     "output_type": "stream",
     "text": [
      "Student Name: James, Age: 20\n",
      "Student Name: Bob, Age: 22\n",
      "Age cannot be negative.\n"
     ]
    },
    {
     "data": {
      "text/plain": [
       "defined \u001b[32mclass\u001b[39m \u001b[36mStudent\u001b[39m\n",
       "\u001b[36mstudent\u001b[39m: \u001b[32mStudent\u001b[39m = ammonite.$sess.cmd9$Helper$Student@43b69fb7"
      ]
     },
     "execution_count": 9,
     "metadata": {},
     "output_type": "execute_result"
    }
   ],
   "source": [
    "class Student(private var name: String, private var age: Int) {\n",
    "  \n",
    "  def getName: String = name // Getter\n",
    "  def getAge: Int = age\n",
    "\n",
    "  // Method to update the name\n",
    "  def updateName(newName: String): Unit = {\n",
    "    name = newName\n",
    "  }\n",
    "\n",
    "  // Method to update the age\n",
    "  def updateAge(newAge: Int): Unit = {\n",
    "    if (newAge >= 0) {\n",
    "      age = newAge\n",
    "    } else {\n",
    "      println(\"Age cannot be negative.\")\n",
    "    }\n",
    "  }\n",
    "\n",
    "  // Method to display student information\n",
    "  def displayInfo(): Unit = {\n",
    "    println(s\"Student Name: $name, Age: $age\")\n",
    "  }\n",
    "}\n",
    "\n",
    "  val student = new Student(\"James\", 20)\n",
    "  student.displayInfo()   // Display initial information\n",
    "  student.updateName(\"Bob\")\n",
    "  student.updateAge(22)\n",
    "  student.displayInfo()   // Display updated information\n",
    "  student.updateAge(-5)    // Attempt to set a negative age"
   ]
  }
 ],
 "metadata": {
  "kernelspec": {
   "display_name": "Scala",
   "language": "scala",
   "name": "scala"
  },
  "language_info": {
   "codemirror_mode": "text/x-scala",
   "file_extension": ".sc",
   "mimetype": "text/x-scala",
   "name": "scala",
   "nbconvert_exporter": "script",
   "version": "2.13.14"
  }
 },
 "nbformat": 4,
 "nbformat_minor": 2
}
