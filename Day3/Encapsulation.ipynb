{
 "cells": [
  {
   "cell_type": "markdown",
   "metadata": {},
   "source": [
    "## Encapsulation\n",
    "\n",
    "It describes the idea of bundling data and methods that work on that data within a class."
   ]
  },
  {
   "cell_type": "code",
   "execution_count": 9,
   "metadata": {},
   "outputs": [
    {
     "name": "stdout",
     "output_type": "stream",
     "text": [
      "Student Name: James, Age: 20\n",
      "Student Name: Bob, Age: 22\n",
      "Age cannot be negative.\n"
     ]
    },
    {
     "data": {
      "text/plain": [
       "defined \u001b[32mclass\u001b[39m \u001b[36mStudent\u001b[39m\n",
       "\u001b[36mstudent\u001b[39m: \u001b[32mStudent\u001b[39m = ammonite.$sess.cmd9$Helper$Student@43b69fb7"
      ]
     },
     "execution_count": 9,
     "metadata": {},
     "output_type": "execute_result"
    }
   ],
   "source": [
    "class Student(private var name: String, private var age: Int) {\n",
    "  \n",
    "  def getName: String = name // Getter\n",
    "  def getAge: Int = age\n",
    "\n",
    "  // Method to update the name\n",
    "  def updateName(newName: String): Unit = {\n",
    "    name = newName\n",
    "  }\n",
    "\n",
    "  // Method to update the age\n",
    "  def updateAge(newAge: Int): Unit = {\n",
    "    if (newAge >= 0) {\n",
    "      age = newAge\n",
    "    } else {\n",
    "      println(\"Age cannot be negative.\")\n",
    "    }\n",
    "  }\n",
    "\n",
    "  // Method to display student information\n",
    "  def displayInfo(): Unit = {\n",
    "    println(s\"Student Name: $name, Age: $age\")\n",
    "  }\n",
    "}\n",
    "\n",
    "  val student = new Student(\"James\", 20)\n",
    "  student.displayInfo()   // Display initial information\n",
    "  student.updateName(\"Bob\")\n",
    "  student.updateAge(22)\n",
    "  student.displayInfo()   // Display updated information\n",
    "  student.updateAge(-5)    // Attempt to set a negative age"
   ]
  }
 ],
 "metadata": {
  "kernelspec": {
   "display_name": "Scala",
   "language": "scala",
   "name": "scala"
  },
  "language_info": {
   "codemirror_mode": "text/x-scala",
   "file_extension": ".sc",
   "mimetype": "text/x-scala",
   "name": "scala",
   "nbconvert_exporter": "script",
   "version": "2.13.14"
  }
 },
 "nbformat": 4,
 "nbformat_minor": 2
}
