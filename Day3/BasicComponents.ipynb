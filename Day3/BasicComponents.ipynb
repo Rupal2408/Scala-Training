{
 "cells": [
  {
   "cell_type": "markdown",
   "metadata": {},
   "source": [
    "## Class\n",
    "A class is a blueprint for creating objects. It encapsulates data and behavior in a single unit.\n",
    "\n",
    "## Instance Variables\n",
    "\n",
    " Instance variable is a variable that is tied to a specific instance of a class. Instance variables are defined within a class and represent the state of each instance."
   ]
  },
  {
   "cell_type": "code",
   "execution_count": 13,
   "metadata": {},
   "outputs": [
    {
     "name": "stdout",
     "output_type": "stream",
     "text": [
      "Model: Ford, Price: 2500000\n",
      "Model: Ford, Price: 3000000\n"
     ]
    },
    {
     "data": {
      "text/plain": [
       "defined \u001b[32mclass\u001b[39m \u001b[36mCar\u001b[39m\n",
       "\u001b[36mcar\u001b[39m: \u001b[32mCar\u001b[39m = ammonite.$sess.cmd13$Helper$Car@346e3b95\n",
       "\u001b[36mcar1\u001b[39m: \u001b[32mCar\u001b[39m = ammonite.$sess.cmd13$Helper$Car@4adeb56a"
      ]
     },
     "execution_count": 13,
     "metadata": {},
     "output_type": "execute_result"
    }
   ],
   "source": [
    "class Car(val model: String, private var price: Int) {\n",
    "  \n",
    "  def getPrice: Int = price\n",
    "  \n",
    "  def setPrice(newPrice: Int): Unit = {\n",
    "    price = newPrice \n",
    "  }\n",
    "  \n",
    "  def displayInfo(): Unit = {\n",
    "    println(s\"Model: $model, Price: $price\")\n",
    "  }\n",
    "}\n",
    "\n",
    "val car = new Car(\"Ford\", 2500000)\n",
    "val car1 = new Car(\"Ford\", 2500000)\n",
    "car.displayInfo()\n",
    "\n",
    "car.setPrice(3000000)\n",
    "car.displayInfo()"
   ]
  },
  {
   "cell_type": "markdown",
   "metadata": {},
   "source": [
    "## Constructors\n",
    "Constructors are special methods that are called when an instance of a class is created. Scala supports two types of constructors: primary constructors and secondary constructors.\n",
    "\n",
    "### Primary Constructors: \n",
    "Primary constructors are defined within the class declaration itself. They specify the parameters required to create an instance of the class.\n",
    "\n",
    "### Auxiliary Constructors: \n",
    "Auxiliary constructors are additional constructors defined using the def this() syntax. They allow us to provide alternative ways to construct objects of the class."
   ]
  },
  {
   "cell_type": "code",
   "execution_count": 2,
   "metadata": {},
   "outputs": [
    {
     "name": "stdout",
     "output_type": "stream",
     "text": [
      "Area of rectangle: 50.0\n",
      "Area of square: 16.0\n"
     ]
    },
    {
     "data": {
      "text/plain": [
       "defined \u001b[32mclass\u001b[39m \u001b[36mRectangle\u001b[39m\n",
       "\u001b[36mrect\u001b[39m: \u001b[32mRectangle\u001b[39m = ammonite.$sess.cmd2$Helper$Rectangle@4479354\n",
       "\u001b[36msquare\u001b[39m: \u001b[32mRectangle\u001b[39m = ammonite.$sess.cmd2$Helper$Rectangle@7670aa82"
      ]
     },
     "execution_count": 2,
     "metadata": {},
     "output_type": "execute_result"
    }
   ],
   "source": [
    "class Rectangle(val width: Double, val height: Double) {\n",
    "  // Primary constructor\n",
    "  def this(size: Double) = this(size, size) // Secondary constructor for squares\n",
    "  \n",
    "  def area: Double = width * height\n",
    "}\n",
    "\n",
    "val rect = new Rectangle(5.0, 10.0)\n",
    "println(s\"Area of rectangle: ${rect.area}\") \n",
    "val square = new Rectangle(4.0) // Using secondary constructor\n",
    "println(s\"Area of square: ${square.area}\")\n"
   ]
  },
  {
   "cell_type": "markdown",
   "metadata": {},
   "source": [
    "## Singleton Object\n",
    "\n",
    "A singleton object is an object that is defined using the object keyword. It ensures that there is only one instance of that object in the program."
   ]
  },
  {
   "cell_type": "code",
   "execution_count": 3,
   "metadata": {},
   "outputs": [
    {
     "name": "stdout",
     "output_type": "stream",
     "text": [
      "Height of the rectangle is:30\n",
      "Length of the rectangle is:20\n",
      "Area of the rectangle is :600\n",
      "600\n",
      "700\n"
     ]
    },
    {
     "data": {
      "text/plain": [
       "defined \u001b[32mclass\u001b[39m \u001b[36mAreaOfRectangle\u001b[39m\n",
       "defined \u001b[32mobject\u001b[39m \u001b[36mCalcArea\u001b[39m"
      ]
     },
     "execution_count": 3,
     "metadata": {},
     "output_type": "execute_result"
    }
   ],
   "source": [
    "class AreaOfRectangle\n",
    "{\n",
    "    // Method which gives the area of the rectangle\n",
    "    def area(length: Int, height: Int): Int = {\n",
    "        var ar = length * height;\n",
    "        println(\"Height of the rectangle is:\" + height);\n",
    "        println(\"Length of the rectangle is:\" + length);\n",
    "        println(\"Area of the rectangle is :\" + ar);\n",
    "        ar\n",
    "    }\n",
    "}\n",
    " \n",
    "// singleton object\n",
    "object CalcArea\n",
    "{\n",
    "    var area: Int = 0\n",
    "    var obj = new AreaOfRectangle();\n",
    "    area = obj.area(20,30);\n",
    "}\n",
    "println(CalcArea.area)\n",
    "CalcArea.area = 700\n",
    "println(CalcArea.area)"
   ]
  },
  {
   "cell_type": "markdown",
   "metadata": {},
   "source": [
    "## Companion Object\n",
    "\n",
    "A companion object is an object that has the same name as a class and is defined in the same file as that class. A companion object and its class can access each other’s private members. A companion object’s apply method lets you create new instances of a class without using the new keyword. "
   ]
  },
  {
   "cell_type": "code",
   "execution_count": 4,
   "metadata": {},
   "outputs": [
    {
     "name": "stdout",
     "output_type": "stream",
     "text": [
      "Price for dish Pizza is $100.\n",
      "Price for dish Pasta is $200.\n"
     ]
    },
    {
     "data": {
      "text/plain": [
       "defined \u001b[32mclass\u001b[39m \u001b[36mOrder\u001b[39m\n",
       "defined \u001b[32mobject\u001b[39m \u001b[36mOrder\u001b[39m\n",
       "\u001b[36morder1\u001b[39m: \u001b[32mOrder\u001b[39m = Price for dish Pizza is $100.\n",
       "\u001b[36morder2\u001b[39m: \u001b[32mOrder\u001b[39m = Price for dish Pasta is $200."
      ]
     },
     "execution_count": 4,
     "metadata": {},
     "output_type": "execute_result"
    }
   ],
   "source": [
    "class Order private(var dish: String, var price: Int) {\n",
    "  // Override the toString method\n",
    "  override def toString: String = s\"Price for dish $dish is $$$price.\"\n",
    "}\n",
    "\n",
    "object Order {\n",
    "  def apply(dish: String): Order = {\n",
    "    new Order(dish, 100) // Default price\n",
    "  }\n",
    "  \n",
    "  def apply(dish: String, price: Int): Order = {\n",
    "    new Order(dish, price)\n",
    "  }\n",
    "}\n",
    "\n",
    "// Usage\n",
    "val order1 = Order(\"Pizza\") // Using the companion object\n",
    "println(order1) \n",
    "val order2 = Order(\"Pasta\", 200)\n",
    "println(order2)"
   ]
  }
 ],
 "metadata": {
  "kernelspec": {
   "display_name": "Scala",
   "language": "scala",
   "name": "scala"
  },
  "language_info": {
   "codemirror_mode": "text/x-scala",
   "file_extension": ".sc",
   "mimetype": "text/x-scala",
   "name": "scala",
   "nbconvert_exporter": "script",
   "version": "2.13.14"
  }
 },
 "nbformat": 4,
 "nbformat_minor": 2
}
