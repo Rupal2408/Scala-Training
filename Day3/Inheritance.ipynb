{
 "cells": [
  {
   "cell_type": "markdown",
   "metadata": {},
   "source": [
    "## Inheritance\n",
    "\n",
    "Inheritance in Scala allows you to create a new class (subclass or derived class) based on an existing class (superclass or base class). This promotes code reuse and establishes a relationship between classes.\n",
    "\n",
    "Here is an implementation using abstract class. \n",
    "An abstract class contains both abstract and non-abstract methods. \n",
    "The abstract methods of abstract class are those methods which do not contain any implementation."
   ]
  },
  {
   "cell_type": "code",
   "execution_count": 10,
   "metadata": {},
   "outputs": [
    {
     "name": "stdout",
     "output_type": "stream",
     "text": [
      "Car1 is : Ford\n",
      "Car2 is : Audi\n"
     ]
    },
    {
     "data": {
      "text/plain": [
       "defined \u001b[32mclass\u001b[39m \u001b[36mVehicle\u001b[39m\n",
       "defined \u001b[32mclass\u001b[39m \u001b[36mFord\u001b[39m\n",
       "defined \u001b[32mclass\u001b[39m \u001b[36mAudi\u001b[39m\n",
       "\u001b[36mcar1\u001b[39m: \u001b[32mFord\u001b[39m = ammonite.$sess.cmd10$Helper$Ford@1c2b54b\n",
       "\u001b[36mcar2\u001b[39m: \u001b[32mAudi\u001b[39m = ammonite.$sess.cmd10$Helper$Audi@4eb247dd"
      ]
     },
     "execution_count": 10,
     "metadata": {},
     "output_type": "execute_result"
    }
   ],
   "source": [
    "// Base class\n",
    "abstract class Vehicle {\n",
    "  def display(): String\n",
    "}\n",
    "\n",
    "// Subclass\n",
    "class Ford extends Vehicle {\n",
    "  override def display(): String = \"Ford\" // Overriding the method\n",
    "}\n",
    "\n",
    "// Another subclass\n",
    "class Audi extends Vehicle {\n",
    "  override def display(): String = \"Audi\" // Overriding the method\n",
    "}\n",
    "\n",
    "// Main object to test\n",
    "  val car1 = new Ford\n",
    "  val car2 = new Audi\n",
    "  \n",
    "  println(s\"Car1 is : ${car1.display()}\") // Output: Dog: Bark\n",
    "  println(s\"Car2 is : ${car2.display()}\") // Output: Cat: Meow\n",
    "\n"
   ]
  },
  {
   "cell_type": "markdown",
   "metadata": {},
   "source": [
    "### Multiple Inheritance\n",
    "\n",
    "In Multiple inheritance ,one class can have more than one superclass and inherit features from all parent classes. Scala does not support multiple inheritance with classes, but it can be achieved by traits. "
   ]
  },
  {
   "cell_type": "code",
   "execution_count": 7,
   "metadata": {},
   "outputs": [
    {
     "name": "stdout",
     "output_type": "stream",
     "text": [
      "Payment of $100.0 processed.\n",
      "Order 001 confirmed.\n"
     ]
    },
    {
     "data": {
      "text/plain": [
       "defined \u001b[32mtrait\u001b[39m \u001b[36mPayment\u001b[39m\n",
       "defined \u001b[32mtrait\u001b[39m \u001b[36mConfirmation\u001b[39m\n",
       "defined \u001b[32mclass\u001b[39m \u001b[36mOrder\u001b[39m\n",
       "defined \u001b[32mclass\u001b[39m \u001b[36mOnlineOrder\u001b[39m\n",
       "\u001b[36morder\u001b[39m: \u001b[32mOnlineOrder\u001b[39m = ammonite.$sess.cmd7$Helper$OnlineOrder@25fa1b5a"
      ]
     },
     "execution_count": 7,
     "metadata": {},
     "output_type": "execute_result"
    }
   ],
   "source": [
    "// Trait for Payment Processing\n",
    "trait Payment {\n",
    "  def pay(amount: Double): String \n",
    "}\n",
    "\n",
    "// Trait for Order Confirmation\n",
    "trait Confirmation {\n",
    "  def confirm(orderId: String): String \n",
    "}\n",
    "\n",
    "// Base class for Order\n",
    "class Order(val orderId: String, val amount: Double)\n",
    "\n",
    "// Class that inherits from Order and implements traits\n",
    "class OnlineOrder(orderId: String, amount: Double) extends Order(orderId, amount) with Payment with Confirmation {\n",
    "\n",
    "  // Implementing the abstract methods\n",
    "  def pay(amount: Double): String = {\n",
    "    s\"Payment of $$${amount} processed.\"\n",
    "  }\n",
    "\n",
    "  def confirm(orderId: String): String = {\n",
    "    s\"Order $orderId confirmed.\"\n",
    "  }\n",
    "}\n",
    "\n",
    "val order = new OnlineOrder(\"001\", 100.0)\n",
    "println(order.pay(order.amount))           \n",
    "println(order.confirm(order.orderId))      "
   ]
  }
 ],
 "metadata": {
  "kernelspec": {
   "display_name": "Scala",
   "language": "scala",
   "name": "scala"
  },
  "language_info": {
   "codemirror_mode": "text/x-scala",
   "file_extension": ".sc",
   "mimetype": "text/x-scala",
   "name": "scala",
   "nbconvert_exporter": "script",
   "version": "2.13.14"
  }
 },
 "nbformat": 4,
 "nbformat_minor": 2
}
