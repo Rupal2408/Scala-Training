{
 "cells": [
  {
   "cell_type": "markdown",
   "metadata": {},
   "source": [
    "## Polymorphism\n",
    "\n",
    "Polymorphism is the abilityt to process data differently depending on their types of inputs.\n",
    "\n",
    "### Types of Polymorphism in Scala\n",
    "#### Compile-time Polymorphism (Method Overloading): \n",
    "This occurs when two or more methods in the same class have the same name but different parameters.\n",
    "\n",
    "#### Runtime Polymorphism (Method Overriding): \n",
    "This occurs when a subclass provides a specific implementation of a method that is already defined in its superclass."
   ]
  },
  {
   "cell_type": "code",
   "execution_count": 6,
   "metadata": {},
   "outputs": [
    {
     "name": "stdout",
     "output_type": "stream",
     "text": [
      "Area of Rectangle = 6\n",
      "Area of cube = 24\n",
      "Area of circle = 78.5\n"
     ]
    },
    {
     "data": {
      "text/plain": [
       "defined \u001b[32mclass\u001b[39m \u001b[36mArea\u001b[39m\n",
       "\u001b[36mcalculate\u001b[39m: \u001b[32mArea\u001b[39m = ammonite.$sess.cmd6$Helper$Area@7e8d94eb"
      ]
     },
     "execution_count": 6,
     "metadata": {},
     "output_type": "execute_result"
    }
   ],
   "source": [
    "// Method Overloading\n",
    "\n",
    "class Area {\n",
    "  // Method to calculate area of rectangle\n",
    "  def area(a: Int, b: Int): Int = a * b\n",
    "\n",
    "  // Method to calculate area of cube\n",
    "  def area(a: Int, b: Int, c: Int): Int = a * b * c\n",
    "\n",
    "  // Method to calculate area of circle\n",
    "  def area(r: Double):Double = 3.14 * r * r\n",
    "}\n",
    "\n",
    "  val calculate = new Area()\n",
    "  \n",
    "  println(\"Area of Rectangle = \" + calculate.area(2, 3))         \n",
    "  println(\"Area of cube = \" + calculate.area(2, 3, 4))      \n",
    "  println(\"Area of circle = \" + calculate.area(5))    "
   ]
  },
  {
   "cell_type": "code",
   "execution_count": 8,
   "metadata": {},
   "outputs": [
    {
     "name": "stdout",
     "output_type": "stream",
     "text": [
      "Model of car is Ford.\n",
      "Model of car is Audi.\n"
     ]
    },
    {
     "data": {
      "text/plain": [
       "defined \u001b[32mclass\u001b[39m \u001b[36mCar\u001b[39m\n",
       "defined \u001b[32mclass\u001b[39m \u001b[36mFord\u001b[39m\n",
       "defined \u001b[32mclass\u001b[39m \u001b[36mAudi\u001b[39m\n",
       "\u001b[36mcar1\u001b[39m: \u001b[32mCar\u001b[39m = ammonite.$sess.cmd8$Helper$Ford@32653c59\n",
       "\u001b[36mcar2\u001b[39m: \u001b[32mCar\u001b[39m = ammonite.$sess.cmd8$Helper$Audi@741020e3"
      ]
     },
     "execution_count": 8,
     "metadata": {},
     "output_type": "execute_result"
    }
   ],
   "source": [
    "// Method Overriding\n",
    "\n",
    "// Base class\n",
    "class Car {\n",
    "  def display(): Unit = {\n",
    "    println(\"Cars have multiple models.\")\n",
    "  }\n",
    "}\n",
    "\n",
    "// Subclass: Ford\n",
    "class Ford extends Car {\n",
    "  override def display(): Unit = {\n",
    "    println(\"Model of car is Ford.\")\n",
    "  }\n",
    "}\n",
    "\n",
    "// Subclass: Audi\n",
    "class Audi extends Car {\n",
    "  override def display(): Unit = {\n",
    "    println(\"Model of car is Audi.\")\n",
    "  }\n",
    "}\n",
    "\n",
    "  val car1: Car = new Ford() // Runtime polymorphism\n",
    "  car1.display() \n",
    "  \n",
    "  val car2: Car = new Audi() // Another instance\n",
    "  car2.display()\n"
   ]
  }
 ],
 "metadata": {
  "kernelspec": {
   "display_name": "Scala",
   "language": "scala",
   "name": "scala"
  },
  "language_info": {
   "codemirror_mode": "text/x-scala",
   "file_extension": ".sc",
   "mimetype": "text/x-scala",
   "name": "scala",
   "nbconvert_exporter": "script",
   "version": "2.13.14"
  }
 },
 "nbformat": 4,
 "nbformat_minor": 2
}
