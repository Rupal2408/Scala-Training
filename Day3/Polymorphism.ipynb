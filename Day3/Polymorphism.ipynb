{
 "cells": [
  {
   "cell_type": "markdown",
   "metadata": {},
   "source": [
    "## Polymorphism\n",
    "\n",
    "Polymorphism is the abilityt to process data differently depending on their types of inputs.\n",
    "\n",
    "### Types of Polymorphism in Scala\n",
    "#### Compile-time Polymorphism (Method Overloading): \n",
    "This occurs when two or more methods in the same class have the same name but different parameters.\n",
    "\n",
    "#### Runtime Polymorphism (Method Overriding): \n",
    "This occurs when a subclass provides a specific implementation of a method that is already defined in its superclass."
   ]
  },
  {
   "cell_type": "code",
   "execution_count": 9,
   "metadata": {},
   "outputs": [
    {
     "name": "stdout",
     "output_type": "stream",
     "text": [
      "Area of Rectangle = 6\n",
      "Area of cube = 24\n",
      "Area of circle = 78.5\n"
     ]
    },
    {
     "data": {
      "text/plain": [
       "defined \u001b[32mclass\u001b[39m \u001b[36mArea\u001b[39m\n",
       "\u001b[36mcalculate\u001b[39m: \u001b[32mArea\u001b[39m = ammonite.$sess.cmd9$Helper$Area@180738c"
      ]
     },
     "execution_count": 9,
     "metadata": {},
     "output_type": "execute_result"
    }
   ],
   "source": [
    "// Method Overloading\n",
    "\n",
    "class Area {\n",
    "  // Method to calculate area of rectangle\n",
    "  def area(a: Int, b: Int): Int = a * b\n",
    "\n",
    "  // Method to calculate area of cube\n",
    "  def area(a: Int, b: Int, c: Int): Int = a * b * c\n",
    "\n",
    "  // Method to calculate area of circle\n",
    "  def area(r: Double):Double = 3.14 * r * r\n",
    "}\n",
    "\n",
    "  val calculate = new Area()\n",
    "  \n",
    "  println(\"Area of Rectangle = \" + calculate.area(2, 3))         \n",
    "  println(\"Area of cube = \" + calculate.area(2, 3, 4))      \n",
    "  println(\"Area of circle = \" + calculate.area(5))    "
   ]
  },
  {
   "cell_type": "markdown",
   "metadata": {},
   "source": [
    "##### Implement Method Overloading with variable number of parameters\n",
    "\n",
    "We can implement a method that accepts a variable number of parameters using the syntax * (varargs). This allows to pass zero or more arguments of a specified type to the method. "
   ]
  },
  {
   "cell_type": "code",
   "execution_count": 2,
   "metadata": {},
   "outputs": [
    {
     "name": "stdout",
     "output_type": "stream",
     "text": [
      "normal fumct\n",
      "3\n",
      "variable param func\n",
      "100\n",
      "variable param func\n",
      "0\n"
     ]
    },
    {
     "data": {
      "text/plain": [
       "defined \u001b[32mfunction\u001b[39m \u001b[36msum\u001b[39m\n",
       "defined \u001b[32mfunction\u001b[39m \u001b[36msum\u001b[39m\n",
       "defined \u001b[32mfunction\u001b[39m \u001b[36mexecute\u001b[39m"
      ]
     },
     "execution_count": 2,
     "metadata": {},
     "output_type": "execute_result"
    }
   ],
   "source": [
    "  def sum(numbers: Int*): Int = {\n",
    "    println(\"variable param func\")\n",
    "    numbers.sum // Using the sum method on the Seq[Int]\n",
    "  }\n",
    "\n",
    "  def sum(num1:Int, num2:Int):Int = {\n",
    "    println(\"normal fumct\")\n",
    "    num1+num2\n",
    "  }\n",
    "\n",
    "  def execute(): Unit = {\n",
    "    println(sum(1, 2)) \n",
    "    println(sum(10, 20, 30, 40)) \n",
    "    println(sum())\n",
    "  }\n",
    "execute()"
   ]
  },
  {
   "cell_type": "markdown",
   "metadata": {},
   "source": [
    "#### Implement method default parameters\n",
    "\n",
    "We can define methods with default parameters, allowing you to specify default values for parameters that can be omitted when calling the method."
   ]
  },
  {
   "cell_type": "code",
   "execution_count": 3,
   "metadata": {},
   "outputs": [
    {
     "name": "stdout",
     "output_type": "stream",
     "text": [
      "Employee Name is James. Company is Apple.\n",
      "Employee Name is Rahul. Company is TCS.\n"
     ]
    },
    {
     "data": {
      "text/plain": [
       "defined \u001b[32mfunction\u001b[39m \u001b[36mfun\u001b[39m"
      ]
     },
     "execution_count": 3,
     "metadata": {},
     "output_type": "execute_result"
    }
   ],
   "source": [
    "def fun(name:String, company:String = \"Apple\"): Unit = {\n",
    "    println(s\"Employee Name is $name. Company is $company.\")\n",
    "}\n",
    "\n",
    "fun(\"James\")\n",
    "fun(\"Rahul\",\"TCS\")"
   ]
  },
  {
   "cell_type": "code",
   "execution_count": 10,
   "metadata": {},
   "outputs": [
    {
     "name": "stdout",
     "output_type": "stream",
     "text": [
      "Model of car is Ford.\n",
      "Model of car is Audi.\n"
     ]
    },
    {
     "data": {
      "text/plain": [
       "defined \u001b[32mclass\u001b[39m \u001b[36mCar\u001b[39m\n",
       "defined \u001b[32mclass\u001b[39m \u001b[36mFord\u001b[39m\n",
       "defined \u001b[32mclass\u001b[39m \u001b[36mAudi\u001b[39m\n",
       "\u001b[36mcar1\u001b[39m: \u001b[32mCar\u001b[39m = ammonite.$sess.cmd10$Helper$Ford@332362cc\n",
       "\u001b[36mcar2\u001b[39m: \u001b[32mCar\u001b[39m = ammonite.$sess.cmd10$Helper$Audi@66f0c04d"
      ]
     },
     "execution_count": 10,
     "metadata": {},
     "output_type": "execute_result"
    }
   ],
   "source": [
    "// Method Overriding\n",
    "\n",
    "// Base class\n",
    "class Car {\n",
    "  def display(): Unit = {\n",
    "    println(\"Cars have multiple models.\")\n",
    "  }\n",
    "}\n",
    "\n",
    "// Subclass: Ford\n",
    "class Ford extends Car {\n",
    "  override def display(): Unit = {\n",
    "    println(\"Model of car is Ford.\")\n",
    "  }\n",
    "}\n",
    "\n",
    "// Subclass: Audi\n",
    "class Audi extends Car {\n",
    "  override def display(): Unit = {\n",
    "    println(\"Model of car is Audi.\")\n",
    "  }\n",
    "}\n",
    "\n",
    "  val car1: Car = new Ford() // Runtime polymorphism\n",
    "  car1.display() \n",
    "  \n",
    "  val car2: Car = new Audi() // Another instance\n",
    "  car2.display()\n"
   ]
  },
  {
   "cell_type": "markdown",
   "metadata": {},
   "source": [
    "## Constructor Overloading\n",
    "\n",
    "Constructor overloading allows a class to have multiple constructors with different parameter lists. This provides flexibility in how objects of the class can be instantiated."
   ]
  },
  {
   "cell_type": "code",
   "execution_count": 4,
   "metadata": {},
   "outputs": [
    {
     "name": "stdout",
     "output_type": "stream",
     "text": [
      "Rohan is 25 years old. The id is 1222\n",
      "Rahul is 27 years old. The id is 0\n",
      "James is 0 years old. The id is 0\n",
      "Unknown is 0 years old. The id is 0\n"
     ]
    },
    {
     "data": {
      "text/plain": [
       "defined \u001b[32mclass\u001b[39m \u001b[36mEmployee\u001b[39m\n",
       "\u001b[36memp1\u001b[39m: \u001b[32mEmployee\u001b[39m = ammonite.$sess.cmd4$Helper$Employee@1ab37b17\n",
       "\u001b[36memp2\u001b[39m: \u001b[32mEmployee\u001b[39m = ammonite.$sess.cmd4$Helper$Employee@3d235d3f\n",
       "\u001b[36memp3\u001b[39m: \u001b[32mEmployee\u001b[39m = ammonite.$sess.cmd4$Helper$Employee@2b21c864\n",
       "\u001b[36memp4\u001b[39m: \u001b[32mEmployee\u001b[39m = ammonite.$sess.cmd4$Helper$Employee@6272ab9a"
      ]
     },
     "execution_count": 4,
     "metadata": {},
     "output_type": "execute_result"
    }
   ],
   "source": [
    "class Employee(val name: String, val age: Int, val id:Int) {\n",
    "  // Primary constructor\n",
    "\n",
    "  // Secondary constructor\n",
    "  def this(name: String) = this(name, 0, 0) // Default age and id to 0\n",
    "\n",
    "  def this(name: String, age:Int) = this(name, age, 0)\n",
    "\n",
    "  def this() = this(\"Unknown\", 0, 0) // Default name, age and id\n",
    "\n",
    "}\n",
    "\n",
    "    val emp1 = new Employee(\"Rohan\", 25, 1222)\n",
    "    val emp2 = new Employee(\"Rahul\", 27)\n",
    "    val emp3 = new Employee(\"James\")\n",
    "    val emp4 = new Employee() // Uses default constructor\n",
    "\n",
    "    println(s\"${emp1.name} is ${emp1.age} years old. The id is ${emp1.id}\")\n",
    "    println(s\"${emp2.name} is ${emp2.age} years old. The id is ${emp2.id}\")\n",
    "    println(s\"${emp3.name} is ${emp3.age} years old. The id is ${emp3.id}\")\n",
    "    println(s\"${emp4.name} is ${emp4.age} years old. The id is ${emp4.id}\")\n",
    "\n"
   ]
  },
  {
   "cell_type": "markdown",
   "metadata": {},
   "source": [
    "## Constructor Overriding\n",
    "In Scala, you cannot override constructors directly, but you can call the superclass's constructor from a subclass."
   ]
  },
  {
   "cell_type": "code",
   "execution_count": 5,
   "metadata": {},
   "outputs": [
    {
     "name": "stdout",
     "output_type": "stream",
     "text": [
      "Animal created: Buddy\n",
      "Dog created: Buddy, Breed: Golden Retriever\n"
     ]
    },
    {
     "data": {
      "text/plain": [
       "defined \u001b[32mclass\u001b[39m \u001b[36mAnimal\u001b[39m\n",
       "defined \u001b[32mclass\u001b[39m \u001b[36mDog\u001b[39m\n",
       "\u001b[36mdog\u001b[39m: \u001b[32mDog\u001b[39m = ammonite.$sess.cmd5$Helper$Dog@489db1ea"
      ]
     },
     "execution_count": 5,
     "metadata": {},
     "output_type": "execute_result"
    }
   ],
   "source": [
    "class Animal(val name: String) {\n",
    "  println(s\"Animal created: $name\")\n",
    "}\n",
    "\n",
    "class Dog(name: String, val breed: String) extends Animal(name) {\n",
    "  println(s\"Dog created: $name, Breed: $breed\")\n",
    "}\n",
    "\n",
    "    val dog = new Dog(\"Buddy\", \"Golden Retriever\")\n"
   ]
  },
  {
   "cell_type": "markdown",
   "metadata": {},
   "source": [
    "## Operator overloading\n",
    "\n",
    "Operator overloading allows you to define how standard operators (like +, -, etc.) behave for instances of your class. You can create new definitions for these operators based on the data types you are working with."
   ]
  },
  {
   "cell_type": "code",
   "execution_count": 7,
   "metadata": {},
   "outputs": [
    {
     "name": "stdout",
     "output_type": "stream",
     "text": [
      "400\n",
      "0-1000\n"
     ]
    },
    {
     "data": {
      "text/plain": [
       "defined \u001b[32mclass\u001b[39m \u001b[36mEnhancedInt\u001b[39m\n",
       "\u001b[36mresult\u001b[39m: \u001b[32mInt\u001b[39m = \u001b[32m400\u001b[39m"
      ]
     },
     "execution_count": 7,
     "metadata": {},
     "output_type": "execute_result"
    }
   ],
   "source": [
    "implicit class EnhancedInt(val x:Int) {\n",
    "    def #%(discount: Int): Int = x - (x * discount / 100)\n",
    "    def rangeFinder():String = {\n",
    "        if(x>=0 && x<=1000)\n",
    "        return \"0-1000\"\n",
    "        else if(x>1000)\n",
    "        return \"1000+\"\n",
    "        else \n",
    "        return \"negative\"\n",
    "    }\n",
    "}\n",
    "\n",
    "val result:Int = 500 #% 20 // Adds 20% to 100\n",
    "println(result)\n",
    "println(result.rangeFinder())"
   ]
  }
 ],
 "metadata": {
  "kernelspec": {
   "display_name": "Scala",
   "language": "scala",
   "name": "scala"
  },
  "language_info": {
   "codemirror_mode": "text/x-scala",
   "file_extension": ".sc",
   "mimetype": "text/x-scala",
   "name": "scala",
   "nbconvert_exporter": "script",
   "version": "2.13.14"
  }
 },
 "nbformat": 4,
 "nbformat_minor": 2
}
