{
 "cells": [
  {
   "cell_type": "markdown",
   "metadata": {},
   "source": [
    "# Bubble Sort"
   ]
  },
  {
   "cell_type": "code",
   "execution_count": 11,
   "metadata": {},
   "outputs": [
    {
     "name": "stdout",
     "output_type": "stream",
     "text": [
      "2 4 23 45 67 "
     ]
    },
    {
     "data": {
      "text/plain": [
       "\u001b[32mimport \u001b[39m\u001b[36mscala.util.control.Breaks._\u001b[39m\n",
       "defined \u001b[32mfunction\u001b[39m \u001b[36mbubbleSort\u001b[39m\n",
       "\u001b[36mbubbleSortArr\u001b[39m: \u001b[32mArray\u001b[39m[\u001b[32mInt\u001b[39m] = \u001b[33mArray\u001b[39m(\u001b[32m2\u001b[39m, \u001b[32m4\u001b[39m, \u001b[32m23\u001b[39m, \u001b[32m45\u001b[39m, \u001b[32m67\u001b[39m)"
      ]
     },
     "execution_count": 11,
     "metadata": {},
     "output_type": "execute_result"
    }
   ],
   "source": [
    "import scala.util.control.Breaks._\n",
    "\n",
    "def bubbleSort(arr:Array[Int]) : Unit = { \n",
    "for(i<-0 until arr.length-1){\n",
    "    var swapped = false\n",
    "    breakable{\n",
    "        for(j<- 0 until arr.length-i-1){\n",
    "            if(arr(j)>arr(j+1)){\n",
    "                val temp:Int = arr(j)\n",
    "                arr(j)=arr(j+1)\n",
    "                arr(j+1)=temp;\n",
    "                swapped = true\n",
    "            }\n",
    "        }\n",
    "        if(swapped == false){\n",
    "            break()\n",
    "        }\n",
    "        }\n",
    "    }\n",
    "}\n",
    "val bubbleSortArr: Array[Int] = Array(4,2,67,45,23)\n",
    "bubbleSort(bubbleSortArr)\n",
    "for(x<-bubbleSortArr){\n",
    "    print(s\"$x \")\n",
    "}"
   ]
  },
  {
   "cell_type": "markdown",
   "metadata": {},
   "source": [
    "# Selection Sort"
   ]
  },
  {
   "cell_type": "code",
   "execution_count": 12,
   "metadata": {},
   "outputs": [
    {
     "name": "stdout",
     "output_type": "stream",
     "text": [
      "2 4 23 45 67 "
     ]
    },
    {
     "data": {
      "text/plain": [
       "\u001b[36mselectionSortArr\u001b[39m: \u001b[32mArray\u001b[39m[\u001b[32mInt\u001b[39m] = \u001b[33mArray\u001b[39m(\u001b[32m2\u001b[39m, \u001b[32m4\u001b[39m, \u001b[32m23\u001b[39m, \u001b[32m45\u001b[39m, \u001b[32m67\u001b[39m)\n",
       "defined \u001b[32mfunction\u001b[39m \u001b[36mselectionSort\u001b[39m"
      ]
     },
     "execution_count": 12,
     "metadata": {},
     "output_type": "execute_result"
    }
   ],
   "source": [
    "val selectionSortArr: Array[Int] = Array(4,2,67,45,23)\n",
    "def selectionSort(array:Array[Int]) : Unit = { \n",
    "for(i<- 0 until array.length-1){\n",
    "    var smallestInd: Int = i\n",
    "    for(j<- i+1 until array.length){\n",
    "        if(array(j)<array(smallestInd)){\n",
    "            smallestInd=j\n",
    "        }\n",
    "    }\n",
    "    if(array(i)>array(smallestInd)){\n",
    "            var temp:Int = array(i)\n",
    "            array(i)=array(smallestInd)\n",
    "            array(smallestInd)=temp;\n",
    "\n",
    "    }\n",
    "}\n",
    "}\n",
    "selectionSort(selectionSortArr)\n",
    "for(x<-selectionSortArr){\n",
    "    print(s\"$x \")\n",
    "}\n"
   ]
  },
  {
   "cell_type": "markdown",
   "metadata": {},
   "source": [
    "# Insertion Sort"
   ]
  },
  {
   "cell_type": "code",
   "execution_count": 13,
   "metadata": {},
   "outputs": [
    {
     "name": "stdout",
     "output_type": "stream",
     "text": [
      "2 4 23 45 67 "
     ]
    },
    {
     "data": {
      "text/plain": [
       "\u001b[36minsertionSortArr\u001b[39m: \u001b[32mArray\u001b[39m[\u001b[32mInt\u001b[39m] = \u001b[33mArray\u001b[39m(\u001b[32m2\u001b[39m, \u001b[32m4\u001b[39m, \u001b[32m23\u001b[39m, \u001b[32m45\u001b[39m, \u001b[32m67\u001b[39m)\n",
       "defined \u001b[32mfunction\u001b[39m \u001b[36mInsertionSort\u001b[39m"
      ]
     },
     "execution_count": 13,
     "metadata": {},
     "output_type": "execute_result"
    }
   ],
   "source": [
    "val insertionSortArr: Array[Int] = Array(4,2,67,45,23)\n",
    "def InsertionSort(array:Array[Int]) : Unit = { \n",
    "for(i <-1 until array.length){\n",
    "    var value = array(i)\n",
    "    var j=i-1;\n",
    "    while(j>=0 && array(j)>value){\n",
    "        array(j+1)=array(j);\n",
    "        j=j-1\n",
    "    }\n",
    "    array(j+1)=value\n",
    "}\n",
    "}\n",
    "InsertionSort(insertionSortArr)\n",
    "for(x<-insertionSortArr){\n",
    "    print(s\"$x \")\n",
    "}"
   ]
  },
  {
   "cell_type": "markdown",
   "metadata": {},
   "source": [
    "# Heap Sort"
   ]
  },
  {
   "cell_type": "code",
   "execution_count": 14,
   "metadata": {},
   "outputs": [
    {
     "name": "stdout",
     "output_type": "stream",
     "text": [
      "2 4 22 23 45 67 "
     ]
    },
    {
     "data": {
      "text/plain": [
       "defined \u001b[32mfunction\u001b[39m \u001b[36mheapify\u001b[39m\n",
       "defined \u001b[32mfunction\u001b[39m \u001b[36mheapSort\u001b[39m\n",
       "\u001b[36mheapSortArray\u001b[39m: \u001b[32mArray\u001b[39m[\u001b[32mInt\u001b[39m] = \u001b[33mArray\u001b[39m(\u001b[32m2\u001b[39m, \u001b[32m4\u001b[39m, \u001b[32m22\u001b[39m, \u001b[32m23\u001b[39m, \u001b[32m45\u001b[39m, \u001b[32m67\u001b[39m)"
      ]
     },
     "execution_count": 14,
     "metadata": {},
     "output_type": "execute_result"
    }
   ],
   "source": [
    "def heapify(arr:Array[Int], n:Int, i:Int) : Unit = {\n",
    "    var largest:Int = i\n",
    "    var l:Int = 2*i+1;\n",
    "    var r:Int = 2*i+2;\n",
    "    if(l<n && arr(l)>arr(largest)){\n",
    "        largest=l\n",
    "    }\n",
    "    if(r<n && arr(r)>arr(largest)){\n",
    "        largest=r;\n",
    "    }\n",
    "    if(largest!=i){\n",
    "        var temp:Int = arr(i)\n",
    "        arr(i)=arr(largest)\n",
    "        arr(largest)=temp;\n",
    "        heapify(arr,n,largest)\n",
    "    }\n",
    "}\n",
    "\n",
    "def heapSort(array:Array[Int]):Unit={\n",
    "    var n:Int = array.length\n",
    "    var i:Int = n/2 - 1 \n",
    "    while(i>=0){\n",
    "        heapify(array,n,i)\n",
    "        i=i-1;\n",
    "    }\n",
    "    i = n-1\n",
    "    while(i>0){\n",
    "        val temp:Int = array(0)\n",
    "        array(0) = array(i)\n",
    "        array(i) = temp\n",
    "        heapify(array,i,0)\n",
    "        i=i-1\n",
    "    }\n",
    "\n",
    "}\n",
    "val heapSortArray: Array[Int] = Array(4,2,67,45,23,22)\n",
    "heapSort(heapSortArray)\n",
    "for(x<-heapSortArray){\n",
    "print(s\"$x \")\n",
    "}"
   ]
  },
  {
   "cell_type": "markdown",
   "metadata": {},
   "source": [
    "# Quick Sort"
   ]
  },
  {
   "cell_type": "code",
   "execution_count": 15,
   "metadata": {},
   "outputs": [
    {
     "name": "stdout",
     "output_type": "stream",
     "text": [
      "2 4 23 67 45 "
     ]
    },
    {
     "data": {
      "text/plain": [
       "defined \u001b[32mfunction\u001b[39m \u001b[36mpartition\u001b[39m\n",
       "defined \u001b[32mfunction\u001b[39m \u001b[36mswap\u001b[39m\n",
       "defined \u001b[32mfunction\u001b[39m \u001b[36mquickSort\u001b[39m\n",
       "\u001b[36mquickSortArr\u001b[39m: \u001b[32mArray\u001b[39m[\u001b[32mInt\u001b[39m] = \u001b[33mArray\u001b[39m(\u001b[32m2\u001b[39m, \u001b[32m4\u001b[39m, \u001b[32m23\u001b[39m, \u001b[32m67\u001b[39m, \u001b[32m45\u001b[39m)"
      ]
     },
     "execution_count": 15,
     "metadata": {},
     "output_type": "execute_result"
    }
   ],
   "source": [
    "def partition(array:Array[Int], low:Int, high:Int) : Int = {\n",
    "    var pivot:Int = array(high)\n",
    "    var i:Int = low-1\n",
    "    for(j <- low until high-1){\n",
    "        if(array(j)<pivot){\n",
    "            i=i+1\n",
    "            swap(array,i,j)\n",
    "        }\n",
    "    }\n",
    "    swap(array,i+1,high)\n",
    "    return i+1\n",
    "}\n",
    "\n",
    "def swap(array:Array[Int], i:Int, j:Int) : Unit = {\n",
    "    var temp:Int = array(i)\n",
    "    array(i)=array(j)\n",
    "    array(j)=temp\n",
    "}\n",
    "\n",
    "def quickSort(arr:Array[Int],low:Int,high:Int):Unit = {\n",
    "    if(low<high){\n",
    "        var pi:Int = partition(arr,low,high)\n",
    "        quickSort(arr,low,pi-1)\n",
    "        quickSort(arr,pi+1,high)\n",
    "    }\n",
    "}\n",
    "\n",
    "val quickSortArr: Array[Int] = Array(4,2,67,45,23)\n",
    "quickSort(quickSortArr,0,quickSortArr.length-1)\n",
    "for(x<-quickSortArr){\n",
    "print(s\"$x \")\n",
    "}"
   ]
  }
 ],
 "metadata": {
  "kernelspec": {
   "display_name": "Scala",
   "language": "scala",
   "name": "scala"
  },
  "language_info": {
   "codemirror_mode": "text/x-scala",
   "file_extension": ".sc",
   "mimetype": "text/x-scala",
   "name": "scala",
   "nbconvert_exporter": "script",
   "version": "2.13.14"
  }
 },
 "nbformat": 4,
 "nbformat_minor": 2
}
