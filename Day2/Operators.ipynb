{
 "cells": [
  {
   "cell_type": "markdown",
   "metadata": {},
   "source": [
    "# Operators\n",
    "\n",
    "An operator is a symbol that represents an operation to be performed with one or more operand.\n",
    "\n",
    "### Types of Operators"
   ]
  },
  {
   "cell_type": "markdown",
   "metadata": {},
   "source": [
    "#### 1. Arithmetic Operators\n",
    "These are used to perform arithmetic/mathematical operations on operands.  \n",
    "\n",
    "a) Addition(+) operator\n",
    "b) Subtraction(-) operator \n",
    "c) Multiplication(*) operator \n",
    "d) Division(/) operator \n",
    "e) Modulus(%) operator"
   ]
  },
  {
   "cell_type": "code",
   "execution_count": 4,
   "metadata": {},
   "outputs": [
    {
     "name": "stdout",
     "output_type": "stream",
     "text": [
      "Addition = 15\n",
      "Subtraction = 5\n",
      "Multiplication = 50\n",
      "Division = 2\n",
      "Modulus = 0\n"
     ]
    },
    {
     "data": {
      "text/plain": [
       "defined \u001b[32mfunction\u001b[39m \u001b[36marithemeticOperation\u001b[39m"
      ]
     },
     "execution_count": 4,
     "metadata": {},
     "output_type": "execute_result"
    }
   ],
   "source": [
    "def arithemeticOperation(a:Int, b:Int) : Unit = {\n",
    "    val add:Int = a+b\n",
    "    val sub:Int = a-b\n",
    "    val mul:Int = a*b\n",
    "    val div:Int = a/b\n",
    "    val mod:Int = a%b\n",
    "    println(s\"Addition = $add\")\n",
    "    println(s\"Subtraction = $sub\")\n",
    "    println(s\"Multiplication = $mul\")\n",
    "    println(s\"Division = $div\")\n",
    "    println(s\"Modulus = $mod\")\n",
    "\n",
    "}\n",
    "\n",
    "arithemeticOperation(10,5)"
   ]
  },
  {
   "cell_type": "markdown",
   "metadata": {},
   "source": [
    "#### 2. Relational Operators\n",
    "\n",
    "a. Equal To (==)\n",
    "b. Not Equal To (!=)\n",
    "c. Greater Than (>)\n",
    "d. Greater Than Equal To (>=)\n",
    "e. Less Than (<)\n",
    "f. Less Than Equal To (<=)"
   ]
  },
  {
   "cell_type": "code",
   "execution_count": 5,
   "metadata": {},
   "outputs": [
    {
     "name": "stdout",
     "output_type": "stream",
     "text": [
      "a==b equals false\n",
      "a!=b equals true\n",
      "a>b equals true\n",
      "a<b equals false\n",
      "a>=b equals true\n",
      "a<=b equals false\n",
      "\n",
      "a==b equals true\n",
      "a!=b equals false\n",
      "a>b equals false\n",
      "a<b equals false\n",
      "a>=b equals true\n",
      "a<=b equals true\n"
     ]
    },
    {
     "data": {
      "text/plain": [
       "defined \u001b[32mfunction\u001b[39m \u001b[36mRelationalOperation\u001b[39m"
      ]
     },
     "execution_count": 5,
     "metadata": {},
     "output_type": "execute_result"
    }
   ],
   "source": [
    "def RelationalOperation(a:Int, b:Int) : Unit = {\n",
    "    println(\"a==b equals \" + (a==b))\n",
    "    println(\"a!=b equals \" + (a!=b))\n",
    "    println(\"a>b equals \" + (a>b))\n",
    "    println(\"a<b equals \" + (a<b))\n",
    "    println(\"a>=b equals \" + (a>=b))\n",
    "    println(\"a<=b equals \" + (a<=b))\n",
    "}\n",
    "\n",
    "RelationalOperation(10,5)\n",
    "println()\n",
    "RelationalOperation(6,6);"
   ]
  },
  {
   "cell_type": "markdown",
   "metadata": {},
   "source": [
    "#### 3. Logical Operators\n",
    "\n",
    "a. AND(&&)\n",
    "b. OR(||)\n",
    "c. NOT(!)"
   ]
  },
  {
   "cell_type": "code",
   "execution_count": 6,
   "metadata": {},
   "outputs": [
    {
     "name": "stdout",
     "output_type": "stream",
     "text": [
      "Logical AND operation : false\n",
      "Logical OR operation : true\n",
      "Logical NOT operation : true\n"
     ]
    },
    {
     "data": {
      "text/plain": [
       "defined \u001b[32mfunction\u001b[39m \u001b[36mlogicalOperation\u001b[39m"
      ]
     },
     "execution_count": 6,
     "metadata": {},
     "output_type": "execute_result"
    }
   ],
   "source": [
    "def logicalOperation(a:Boolean, b:Boolean) : Unit = {\n",
    "    println(\"Logical AND operation : \" + (a && b))\n",
    "    println(\"Logical OR operation : \" + (a || b))\n",
    "    println(\"Logical NOT operation : \" + !(a && b))\n",
    "}\n",
    "\n",
    "logicalOperation(true, false)"
   ]
  },
  {
   "cell_type": "markdown",
   "metadata": {},
   "source": [
    "#### 4. Bitwise Operators\n",
    "\n",
    "a. Bitwise AND (&)\n",
    "b. Bitwise OR (|)\n",
    "c. Bitwise XOR(^)\n",
    "d. Bitwise Left Shift(<<)\n",
    "e. Bitwise Right Shift(>>)\n",
    "f. Bitwise ones Complement(~)\n",
    "g. Bitwise shift right zero fill(>>>)"
   ]
  },
  {
   "cell_type": "code",
   "execution_count": 8,
   "metadata": {},
   "outputs": [
    {
     "name": "stdout",
     "output_type": "stream",
     "text": [
      "Bitwise And of a & b = 0\n",
      "Bitwise Or of a | b = 14\n",
      "Bitwise Xor of a ^ b = 14\n",
      "Bitwise Ones Complement of ~a = -11\n",
      "Bitwise Left Shift of a << 3 = 80\n",
      "Bitwise Right Shift of a >> 3 = 1\n",
      "Bitwise Shift Right a >>> 4 = 0\n"
     ]
    },
    {
     "data": {
      "text/plain": [
       "\u001b[36ma\u001b[39m: \u001b[32mInt\u001b[39m = \u001b[32m10\u001b[39m\n",
       "\u001b[36mb\u001b[39m: \u001b[32mInt\u001b[39m = \u001b[32m4\u001b[39m\n",
       "\u001b[36mc\u001b[39m: \u001b[32mInt\u001b[39m = \u001b[32m0\u001b[39m"
      ]
     },
     "execution_count": 8,
     "metadata": {},
     "output_type": "execute_result"
    }
   ],
   "source": [
    "    var a = 10;\n",
    "    var b = 4;\n",
    "    var c = 0;\n",
    "     \n",
    "    println(\"Bitwise And of a & b = \" + (a&b));\n",
    "    println(\"Bitwise Or of a | b = \" + (a|b));\n",
    "    println(\"Bitwise Xor of a ^ b = \" + (a^b));\n",
    "    println(\"Bitwise Ones Complement of ~a = \" + ~a);\n",
    "    println(\"Bitwise Left Shift of a << 3 = \" + (a << 3));\n",
    "    println(\"Bitwise Right Shift of a >> 3 = \" + (a >> 3));\n",
    "    println(\"Bitwise Shift Right a >>> 4 = \" + (a >>> 4));"
   ]
  },
  {
   "cell_type": "markdown",
   "metadata": {},
   "source": [
    "#### 5. Assignment Operators"
   ]
  },
  {
   "cell_type": "code",
   "execution_count": 10,
   "metadata": {},
   "outputs": [
    {
     "name": "stdout",
     "output_type": "stream",
     "text": [
      "simple addition: c= a + b = 30\n",
      "Add and assignment of c += a = 50\n",
      "Subtract and assignment of c -= a = 30\n",
      "Multiplication and assignment of c *= a = 600\n",
      "Division and assignment of c /= a = 30\n",
      "Modulus and assignment of c %= a = 10\n",
      "Left shift and assignment of c <<= 3 = 80\n",
      "Right shift and assignment of c >>= 3 = 10\n",
      "Bitwise And assignment of c &= 3 = 0\n",
      "Bitwise Xor and assignment of c ^= a = 20\n",
      "Bitwise Or and assignment of c |= a = 20\n"
     ]
    },
    {
     "data": {
      "text/plain": [
       "\u001b[36ma\u001b[39m: \u001b[32mInt\u001b[39m = \u001b[32m20\u001b[39m\n",
       "\u001b[36mb\u001b[39m: \u001b[32mInt\u001b[39m = \u001b[32m10\u001b[39m\n",
       "\u001b[36mc\u001b[39m: \u001b[32mInt\u001b[39m = \u001b[32m20\u001b[39m"
      ]
     },
     "execution_count": 10,
     "metadata": {},
     "output_type": "execute_result"
    }
   ],
   "source": [
    "var a = 20;\n",
    "    var b = 10;\n",
    "    var c = 0;\n",
    "     \n",
    "    c = a + b;\n",
    "    println(\"simple addition: c= a + b = \" + c);\n",
    "     \n",
    "    c += a;\n",
    "    println(\"Add and assignment of c += a = \" + c);\n",
    "     \n",
    "    c -= a;\n",
    "    println(\"Subtract and assignment of c -= a = \" + c);\n",
    "     \n",
    "    c *= a;\n",
    "    println(\"Multiplication and assignment of c *= a = \" + c);\n",
    "     \n",
    "    c /= a;\n",
    "    println(\"Division and assignment of c /= a = \" + c);\n",
    "     \n",
    "    c %= a;\n",
    "    println(\"Modulus and assignment of c %= a = \" + c);\n",
    "     \n",
    "    c <<= 3;\n",
    "    println(\"Left shift and assignment of c <<= 3 = \" + c);\n",
    "     \n",
    "    c >>= 3;\n",
    "    println(\"Right shift and assignment of c >>= 3 = \" + c);\n",
    "     \n",
    "    c &= a;\n",
    "    println(\"Bitwise And assignment of c &= 3 = \" + c);\n",
    "     \n",
    "    c ^= a;\n",
    "    println(\"Bitwise Xor and assignment of c ^= a = \" + c);\n",
    "     \n",
    "    c |= a;\n",
    "    println(\"Bitwise Or and assignment of c |= a = \" + c);"
   ]
  }
 ],
 "metadata": {
  "kernelspec": {
   "display_name": "Scala",
   "language": "scala",
   "name": "scala"
  },
  "language_info": {
   "codemirror_mode": "text/x-scala",
   "file_extension": ".sc",
   "mimetype": "text/x-scala",
   "name": "scala",
   "nbconvert_exporter": "script",
   "version": "2.13.14"
  }
 },
 "nbformat": 4,
 "nbformat_minor": 2
}
