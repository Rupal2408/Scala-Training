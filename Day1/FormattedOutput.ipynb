{
 "cells": [
  {
   "cell_type": "markdown",
   "metadata": {},
   "source": [
    "Formatted Outputs"
   ]
  },
  {
   "cell_type": "markdown",
   "metadata": {},
   "source": [
    "Difference between print and println methods\n",
    "\n",
    "The print function outputs text to the console without appending a newline at the end.\n",
    "The println function outputs text to the console and appends a newline at the end."
   ]
  },
  {
   "cell_type": "code",
   "execution_count": 1,
   "metadata": {},
   "outputs": [
    {
     "name": "stdout",
     "output_type": "stream",
     "text": [
      "Example of Print method.\n",
      "Example of Println method.\n"
     ]
    }
   ],
   "source": [
    "print(\"Example of \")\n",
    "print(\"Print method.\")\n",
    "println() // add a new line\n",
    "println(\"Example of Println method.\")"
   ]
  },
  {
   "cell_type": "markdown",
   "metadata": {},
   "source": [
    "Formatted output can be produced using string interpolation or the printf method.\n",
    "\n",
    "String Interpolation : \n",
    "\n",
    "String interpolation provides a way to use variables inside strings. \n"
   ]
  },
  {
   "cell_type": "code",
   "execution_count": 2,
   "metadata": {},
   "outputs": [
    {
     "name": "stdout",
     "output_type": "stream",
     "text": [
      "Rohan is 27 years old\n"
     ]
    },
    {
     "data": {
      "text/plain": [
       "\u001b[36mname\u001b[39m: \u001b[32mString\u001b[39m = \u001b[32m\"Rohan\"\u001b[39m\n",
       "\u001b[36mage\u001b[39m: \u001b[32mInt\u001b[39m = \u001b[32m27\u001b[39m"
      ]
     },
     "execution_count": 2,
     "metadata": {},
     "output_type": "execute_result"
    }
   ],
   "source": [
    "val name:String = \"Rohan\"\n",
    "val age:Int = 27\n",
    "println(s\"$name is $age years old\")"
   ]
  },
  {
   "cell_type": "markdown",
   "metadata": {},
   "source": [
    "Using string interpolation consists of putting an s in front of your string quotes, and prefixing any variable names with a $ symbol.\n",
    "\n",
    "String interpolators can also take arbitrary expressions. For example:"
   ]
  },
  {
   "cell_type": "code",
   "execution_count": 3,
   "metadata": {},
   "outputs": [
    {
     "name": "stdout",
     "output_type": "stream",
     "text": [
      "10 % 2 = 0\n",
      "x.abs = 1\n"
     ]
    },
    {
     "data": {
      "text/plain": [
       "\u001b[36mx\u001b[39m: \u001b[32mInt\u001b[39m = \u001b[32m-1\u001b[39m"
      ]
     },
     "execution_count": 3,
     "metadata": {},
     "output_type": "execute_result"
    }
   ],
   "source": [
    "println(s\"10 % 2 = ${10 % 2}\")   // \"10 % 2 = 0\""
   ]
  },
  {
   "cell_type": "markdown",
   "metadata": {},
   "source": [
    "For some special characters, it is necessary to escape them when embedded within a string. To represent an actual dollar sign you can double it $$"
   ]
  },
  {
   "cell_type": "code",
   "execution_count": 4,
   "metadata": {},
   "outputs": [
    {
     "name": "stdout",
     "output_type": "stream",
     "text": [
      "The rent of the house is $100\n"
     ]
    }
   ],
   "source": [
    "println(s\"The rent of the house is $$100\")   // \"The rent of the house is $100\""
   ]
  },
  {
   "cell_type": "markdown",
   "metadata": {},
   "source": [
    "The f Interpolator\n",
    "\n",
    "It allows the creation of simple formatted strings. When using the f interpolator, all variable references should be followed by a printf-style format string, like %d, %f etc."
   ]
  },
  {
   "cell_type": "code",
   "execution_count": 7,
   "metadata": {},
   "outputs": [
    {
     "name": "stdout",
     "output_type": "stream",
     "text": [
      "The price of eggs is 25.99.\n"
     ]
    },
    {
     "data": {
      "text/plain": [
       "\u001b[36mprice\u001b[39m: \u001b[32mDouble\u001b[39m = \u001b[32m25.99\u001b[39m\n",
       "\u001b[36mproduct\u001b[39m: \u001b[32mString\u001b[39m = \u001b[32m\"eggs\"\u001b[39m"
      ]
     },
     "execution_count": 7,
     "metadata": {},
     "output_type": "execute_result"
    }
   ],
   "source": [
    "val price = 25.99d\n",
    "val product:String = \"eggs\"\n",
    "println(f\"The price of $product%s is $price%2.2f.\")  // \"The price of eggs is 25.99.\""
   ]
  },
  {
   "cell_type": "markdown",
   "metadata": {},
   "source": [
    "The raw Interpolator\n",
    "\n",
    "The raw interpolator is similar to the s interpolator except that it performs no escaping of literals within the string."
   ]
  },
  {
   "cell_type": "code",
   "execution_count": 8,
   "metadata": {},
   "outputs": [
    {
     "name": "stdout",
     "output_type": "stream",
     "text": [
      "Without raw interpolator: Hello \n",
      " World\n",
      "With raw interpolator: Hello \\n World\n"
     ]
    }
   ],
   "source": [
    "println(s\"Without raw interpolator: Hello \\n World\")\n",
    "println(raw\"With raw interpolator: Hello \\n World\")"
   ]
  },
  {
   "cell_type": "markdown",
   "metadata": {},
   "source": [
    "In the first print, the s string interpolator replaced the characters \\n with a return character. The raw interpolator will not do that as seen in second print statement."
   ]
  },
  {
   "cell_type": "markdown",
   "metadata": {},
   "source": [
    "Using printf\n",
    "\n",
    "We can use the printf method directly. This method allows for formatting with format specifiers."
   ]
  },
  {
   "cell_type": "code",
   "execution_count": 9,
   "metadata": {},
   "outputs": [
    {
     "name": "stdout",
     "output_type": "stream",
     "text": [
      "Bob is 25 years old.\n"
     ]
    },
    {
     "data": {
      "text/plain": [
       "\u001b[36mname\u001b[39m: \u001b[32mString\u001b[39m = \u001b[32m\"Bob\"\u001b[39m\n",
       "\u001b[36mage\u001b[39m: \u001b[32mInt\u001b[39m = \u001b[32m25\u001b[39m"
      ]
     },
     "execution_count": 9,
     "metadata": {},
     "output_type": "execute_result"
    }
   ],
   "source": [
    "val name = \"Bob\"\n",
    "val age = 25\n",
    "printf(\"%s is %d years old.\\n\", name, age)"
   ]
  }
 ],
 "metadata": {
  "kernelspec": {
   "display_name": "Scala",
   "language": "scala",
   "name": "scala"
  },
  "language_info": {
   "codemirror_mode": "text/x-scala",
   "file_extension": ".sc",
   "mimetype": "text/x-scala",
   "name": "scala",
   "nbconvert_exporter": "script",
   "version": "2.13.14"
  }
 },
 "nbformat": 4,
 "nbformat_minor": 2
}
