{
 "cells": [
  {
   "cell_type": "markdown",
   "metadata": {},
   "source": [
    "# Collections\n",
    "\n",
    "### 1. Lists\n",
    "\n",
    "A list is a collection which contains immutable data. List represents linked list in Scala. The Scala List class holds a sequenced, linear list of items.\n",
    "\n",
    "In a Scala list, each element must be of the same type.\n",
    "The implementation of lists uses mutable state internally during construction.\n",
    "In Scala, list is defined under scala.collection.immutable package.\n",
    "A List has various methods to add, reverse, max, min, etc. to enhance the usage of list."
   ]
  },
  {
   "cell_type": "code",
   "execution_count": 37,
   "metadata": {},
   "outputs": [
    {
     "name": "stdout",
     "output_type": "stream",
     "text": [
      "List 1:\n",
      "List(Monday, Tuesday, Wedneday, Thursday)\n",
      "\n",
      "List 2:\n",
      "Jan\n",
      "Feb\n",
      "March\n",
      "The empty list is:\n",
      "List()\n",
      "The head of the list is: Monday\n",
      "The tail of the list is: List(Tuesday, Wedneday, Thursday)\n",
      "Is List Empty: false\n",
      "The reverse of the list is: List(March, Feb, Jan)\n"
     ]
    },
    {
     "data": {
      "text/plain": [
       "\u001b[36mmylist1\u001b[39m: \u001b[32mList\u001b[39m[\u001b[32mString\u001b[39m] = \u001b[33mList\u001b[39m(\u001b[32m\"Monday\"\u001b[39m, \u001b[32m\"Tuesday\"\u001b[39m, \u001b[32m\"Wedneday\"\u001b[39m, \u001b[32m\"Thursday\"\u001b[39m)\n",
       "\u001b[36mmylist2\u001b[39m: \u001b[32mList\u001b[39m[\u001b[32mString\u001b[39m] = \u001b[33mList\u001b[39m(\u001b[32m\"Jan\"\u001b[39m, \u001b[32m\"Feb\"\u001b[39m, \u001b[32m\"March\"\u001b[39m)\n",
       "\u001b[36memptylist\u001b[39m: \u001b[32mList\u001b[39m[\u001b[32mNothing\u001b[39m] = \u001b[33mList\u001b[39m()"
      ]
     },
     "execution_count": 37,
     "metadata": {},
     "output_type": "execute_result"
    }
   ],
   "source": [
    "        // Creating and initializing immutable lists \n",
    "        val mylist1: List[String] = List(\"Monday\", \"Tuesday\", \n",
    "                            \"Wedneday\", \"Thursday\") \n",
    "        val mylist2 = List(\"Jan\", \"Feb\", \"March\") \n",
    "  \n",
    "        // Display the value of mylist1 \n",
    "        println(\"List 1:\") \n",
    "        println(mylist1) \n",
    "  \n",
    "        // Display the value of mylist2 using for loop \n",
    "        println(\"\\nList 2:\") \n",
    "        for(mylist<-mylist2) \n",
    "        { \n",
    "            println(mylist) \n",
    "        } \n",
    "\n",
    "        // Creating an Empty List. \n",
    "        val emptylist: List[Nothing] = List() \n",
    "        println(\"The empty list is:\") \n",
    "        println(emptylist) \n",
    "\n",
    "        //Basic Operations on List\n",
    "        println(\"The head of the list is: \" + mylist1.head) // returns first element of list\n",
    "        println(\"The tail of the list is: \" + mylist1.tail) // returns list of all elements except first\n",
    "        println(\"Is List Empty: \" + mylist2.isEmpty) // returns if list is empty\n",
    "        println(\"The reverse of the list is: \" + mylist2.reverse) // reverse of list\n",
    "\n"
   ]
  },
  {
   "cell_type": "markdown",
   "metadata": {},
   "source": [
    "### 2. ListBuffer\n",
    "\n",
    "A List is immutable, if we need to create a list that is constantly changing, the preferred approach is to use a ListBuffer.\n",
    "To use ListBuffer, scala.collection.mutable.ListBuffer class is imported, an instance of ListBuffer is created. "
   ]
  },
  {
   "cell_type": "code",
   "execution_count": 38,
   "metadata": {},
   "outputs": [
    {
     "name": "stdout",
     "output_type": "stream",
     "text": [
      "ListBuffer(1, 2, 3, 4)\n"
     ]
    },
    {
     "data": {
      "text/plain": [
       "\u001b[32mimport \u001b[39m\u001b[36mscala.collection.mutable.ListBuffer\u001b[39m\n",
       "\u001b[36mmutableList\u001b[39m: \u001b[32mListBuffer\u001b[39m[\u001b[32mInt\u001b[39m] = \u001b[33mListBuffer\u001b[39m(\u001b[32m1\u001b[39m, \u001b[32m2\u001b[39m, \u001b[32m3\u001b[39m, \u001b[32m4\u001b[39m)\n",
       "\u001b[36mres38_2\u001b[39m: \u001b[32mListBuffer\u001b[39m[\u001b[32mInt\u001b[39m] = \u001b[33mListBuffer\u001b[39m(\u001b[32m1\u001b[39m, \u001b[32m2\u001b[39m, \u001b[32m3\u001b[39m, \u001b[32m4\u001b[39m)"
      ]
     },
     "execution_count": 38,
     "metadata": {},
     "output_type": "execute_result"
    }
   ],
   "source": [
    "import scala.collection.mutable.ListBuffer\n",
    "\n",
    "val mutableList = ListBuffer(1, 2, 3)\n",
    "mutableList += 4 // Adding an element\n",
    "println(mutableList)"
   ]
  },
  {
   "cell_type": "markdown",
   "metadata": {},
   "source": [
    "### 3. Map\n",
    "\n",
    "Map is a collection of key-value pairs. In other words, it is similar to dictionary. Keys are always unique while values need not be unique. Key-value pairs can have any data type. "
   ]
  },
  {
   "cell_type": "code",
   "execution_count": 39,
   "metadata": {},
   "outputs": [
    {
     "name": "stdout",
     "output_type": "stream",
     "text": [
      "HashMap()\n",
      "HashMap(Science -> 92, English -> 94, Maths -> 99)\n",
      "After Adding element: HashMap(Science -> 92, Computer -> 90, English -> 94, Maths -> 99)\n",
      "After Removing Element: HashMap(Science -> 92, Computer -> 90, English -> 94)\n"
     ]
    },
    {
     "data": {
      "text/html": [
       "<div class=\"jp-RenderedText\">\n",
       "<pre><code><span style=\"color: rgb(0, 187, 0)\"><span class=\"ansi-green-fg\">import </span></span><span style=\"color: rgb(0, 187, 187)\"><span class=\"ansi-cyan-fg\">scala.collection.mutable.HashMap</span></span>\n",
       "<span style=\"color: rgb(0, 187, 187)\"><span class=\"ansi-cyan-fg\">emptyMap</span></span>: <span style=\"color: rgb(0, 187, 0)\"><span class=\"ansi-green-fg\">HashMap</span></span>[<span style=\"color: rgb(0, 187, 0)\"><span class=\"ansi-green-fg\">Nothing</span></span>, <span style=\"color: rgb(0, 187, 0)\"><span class=\"ansi-green-fg\">Nothing</span></span>] = <span style=\"color: yellow\"><span class=\"ansi-yellow-fg\">HashMap</span></span>()\n",
       "<span style=\"color: rgb(0, 187, 187)\"><span class=\"ansi-cyan-fg\">subjectMarksMap</span></span>: <span style=\"color: rgb(0, 187, 0)\"><span class=\"ansi-green-fg\">HashMap</span></span>[<span style=\"color: rgb(0, 187, 0)\"><span class=\"ansi-green-fg\">String</span></span>, <span style=\"color: rgb(0, 187, 0)\"><span class=\"ansi-green-fg\">Int</span></span>] = <span style=\"color: yellow\"><span class=\"ansi-yellow-fg\">HashMap</span></span>(\n",
       "  <span style=\"color: rgb(0, 187, 0)\"><span class=\"ansi-green-fg\">&quot;Science&quot;</span></span> -&gt; <span style=\"color: rgb(0, 187, 0)\"><span class=\"ansi-green-fg\">92</span></span>,\n",
       "  <span style=\"color: rgb(0, 187, 0)\"><span class=\"ansi-green-fg\">&quot;Computer&quot;</span></span> -&gt; <span style=\"color: rgb(0, 187, 0)\"><span class=\"ansi-green-fg\">90</span></span>,\n",
       "  <span style=\"color: rgb(0, 187, 0)\"><span class=\"ansi-green-fg\">&quot;English&quot;</span></span> -&gt; <span style=\"color: rgb(0, 187, 0)\"><span class=\"ansi-green-fg\">94</span></span>\n",
       ")\n",
       "<span style=\"color: rgb(0, 187, 187)\"><span class=\"ansi-cyan-fg\">res39_7</span></span>: <span style=\"color: rgb(0, 187, 0)\"><span class=\"ansi-green-fg\">HashMap</span></span>[<span style=\"color: rgb(0, 187, 0)\"><span class=\"ansi-green-fg\">String</span></span>, <span style=\"color: rgb(0, 187, 0)\"><span class=\"ansi-green-fg\">Int</span></span>] = <span style=\"color: yellow\"><span class=\"ansi-yellow-fg\">HashMap</span></span>(\n",
       "  <span style=\"color: rgb(0, 187, 0)\"><span class=\"ansi-green-fg\">&quot;Science&quot;</span></span> -&gt; <span style=\"color: rgb(0, 187, 0)\"><span class=\"ansi-green-fg\">92</span></span>,\n",
       "  <span style=\"color: rgb(0, 187, 0)\"><span class=\"ansi-green-fg\">&quot;Computer&quot;</span></span> -&gt; <span style=\"color: rgb(0, 187, 0)\"><span class=\"ansi-green-fg\">90</span></span>,\n",
       "  <span style=\"color: rgb(0, 187, 0)\"><span class=\"ansi-green-fg\">&quot;English&quot;</span></span> -&gt; <span style=\"color: rgb(0, 187, 0)\"><span class=\"ansi-green-fg\">94</span></span>\n",
       ")</code></pre>\n",
       "</div>"
      ],
      "text/plain": [
       "\u001b[32mimport \u001b[39m\u001b[36mscala.collection.mutable.HashMap\u001b[39m\n",
       "\u001b[36memptyMap\u001b[39m: \u001b[32mHashMap\u001b[39m[\u001b[32mNothing\u001b[39m, \u001b[32mNothing\u001b[39m] = \u001b[33mHashMap\u001b[39m()\n",
       "\u001b[36msubjectMarksMap\u001b[39m: \u001b[32mHashMap\u001b[39m[\u001b[32mString\u001b[39m, \u001b[32mInt\u001b[39m] = \u001b[33mHashMap\u001b[39m(\n",
       "  \u001b[32m\"Science\"\u001b[39m -> \u001b[32m92\u001b[39m,\n",
       "  \u001b[32m\"Computer\"\u001b[39m -> \u001b[32m90\u001b[39m,\n",
       "  \u001b[32m\"English\"\u001b[39m -> \u001b[32m94\u001b[39m\n",
       ")\n",
       "\u001b[36mres39_7\u001b[39m: \u001b[32mHashMap\u001b[39m[\u001b[32mString\u001b[39m, \u001b[32mInt\u001b[39m] = \u001b[33mHashMap\u001b[39m(\n",
       "  \u001b[32m\"Science\"\u001b[39m -> \u001b[32m92\u001b[39m,\n",
       "  \u001b[32m\"Computer\"\u001b[39m -> \u001b[32m90\u001b[39m,\n",
       "  \u001b[32m\"English\"\u001b[39m -> \u001b[32m94\u001b[39m\n",
       ")"
      ]
     },
     "metadata": {},
     "output_type": "display_data"
    }
   ],
   "source": [
    "// Basic Map Operations\n",
    "import scala.collection.mutable.HashMap \n",
    "\n",
    "// Creating empty HashMap \n",
    "var emptyMap = new HashMap()   \n",
    "          \n",
    "// Creating HashMap with values \n",
    "var subjectMarksMap = HashMap(\"Maths\"->99, \"English\"->94, \"Science\"->92)   \n",
    "          \n",
    "// Printing HashMap \n",
    "println(emptyMap)   \n",
    "println(subjectMarksMap)\n",
    "\n",
    "//Adding element in Map\n",
    "subjectMarksMap(\"Computer\")=90\n",
    "println(\"After Adding element: \" + subjectMarksMap)\n",
    "\n",
    "// Remove element from Map\n",
    "subjectMarksMap -= \"Maths\"\n",
    "println(\"After Removing Element: \" + subjectMarksMap)\n"
   ]
  },
  {
   "cell_type": "markdown",
   "metadata": {},
   "source": [
    "### 4. Set\n",
    "\n",
    "A set is a collection which only contains unique items. If a duplicate item in the set is added, then set quietly discard the request."
   ]
  },
  {
   "cell_type": "markdown",
   "metadata": {},
   "source": [
    "### HashSet\n",
    "\n",
    "1. Elements are not stored in any specific order. \n",
    "2. Average time complexity for adding, removing, and checking for the existence of an element is O(1), but in the worst case (due to hash collisions), it can be O(n).\n",
    "3. HashSet is used when we need to prioritize performance and do not need to maintain the order of elements."
   ]
  },
  {
   "cell_type": "code",
   "execution_count": 40,
   "metadata": {},
   "outputs": [
    {
     "name": "stdout",
     "output_type": "stream",
     "text": [
      "HashSet()\n",
      "HashSet(1, 2, 3, 4)\n",
      "Element exists = true\n",
      "Element exists = false\n",
      "After element added, set : HashSet(1, 6, 2, 3, 4)\n",
      "After element removed, set: HashSet(1, 6, 2, 3)\n"
     ]
    },
    {
     "data": {
      "text/plain": [
       "\u001b[32mimport \u001b[39m\u001b[36mscala.collection.immutable.HashSet\u001b[39m\n",
       "\u001b[36memptySet\u001b[39m: \u001b[32mHashSet\u001b[39m[\u001b[32mNothing\u001b[39m] = \u001b[33mHashSet\u001b[39m()\n",
       "\u001b[36mset\u001b[39m: \u001b[32mHashSet\u001b[39m[\u001b[32mInt\u001b[39m] = \u001b[33mHashSet\u001b[39m(\u001b[32m1\u001b[39m, \u001b[32m2\u001b[39m, \u001b[32m3\u001b[39m, \u001b[32m4\u001b[39m)\n",
       "\u001b[36mset1\u001b[39m: \u001b[32mHashSet\u001b[39m[\u001b[32mInt\u001b[39m] = \u001b[33mHashSet\u001b[39m(\u001b[32m1\u001b[39m, \u001b[32m6\u001b[39m, \u001b[32m2\u001b[39m, \u001b[32m3\u001b[39m, \u001b[32m4\u001b[39m)\n",
       "\u001b[36mset2\u001b[39m: \u001b[32mHashSet\u001b[39m[\u001b[32mInt\u001b[39m] = \u001b[33mHashSet\u001b[39m(\u001b[32m1\u001b[39m, \u001b[32m6\u001b[39m, \u001b[32m2\u001b[39m, \u001b[32m3\u001b[39m)"
      ]
     },
     "execution_count": 40,
     "metadata": {},
     "output_type": "execute_result"
    }
   ],
   "source": [
    "import scala.collection.immutable.HashSet \n",
    "\n",
    "//Empty set\n",
    "val emptySet = HashSet()\n",
    "println(emptySet)\n",
    "\n",
    "val set = HashSet(1, 2, 3, 4)\n",
    "println(set) \n",
    "\n",
    "//  Element exists or not\n",
    "println(s\"Element exists = ${set(4)}\")\n",
    "println(s\"Element exists = ${set(5)}\")\n",
    "\n",
    "// Add element in set\n",
    "val set1 = set + 6 // Creates a new set\n",
    "println(\"After element added, set : \" + set1)\n",
    "\n",
    "// Remove element in set\n",
    "val set2 = set1 - 4\n",
    "println(\"After element removed, set: \" + set2)"
   ]
  },
  {
   "cell_type": "markdown",
   "metadata": {},
   "source": [
    "### TreeSet\n",
    "\n",
    "1. TreeSet is backed by a balanced binary search tree (specifically, a Red-Black tree).\n",
    "2. Elements are stored in a sorted order.\n",
    "3. Time complexity for adding, removing, and checking for existence is O(log n) due to the underlying tree structure.\n",
    "4. TreeSet is used when we need to maintain sorted order."
   ]
  },
  {
   "cell_type": "code",
   "execution_count": 41,
   "metadata": {},
   "outputs": [
    {
     "name": "stdout",
     "output_type": "stream",
     "text": [
      "TreeSet(1, 2, 3, 4)\n",
      "Element exists = true\n",
      "Element exists = false\n",
      "After element added, set : TreeSet(1, 2, 3, 4, 6)\n",
      "After element removed, set: TreeSet(1, 2, 3, 6)\n"
     ]
    },
    {
     "data": {
      "text/plain": [
       "\u001b[32mimport \u001b[39m\u001b[36mscala.collection.immutable.TreeSet\u001b[39m\n",
       "\u001b[36mtreeSet\u001b[39m: \u001b[32mTreeSet\u001b[39m[\u001b[32mInt\u001b[39m] = \u001b[33mTreeSet\u001b[39m(\u001b[32m1\u001b[39m, \u001b[32m2\u001b[39m, \u001b[32m3\u001b[39m, \u001b[32m4\u001b[39m)\n",
       "\u001b[36mtreeSet1\u001b[39m: \u001b[32mTreeSet\u001b[39m[\u001b[32mInt\u001b[39m] = \u001b[33mTreeSet\u001b[39m(\u001b[32m1\u001b[39m, \u001b[32m2\u001b[39m, \u001b[32m3\u001b[39m, \u001b[32m4\u001b[39m, \u001b[32m6\u001b[39m)\n",
       "\u001b[36mtreeSet2\u001b[39m: \u001b[32mTreeSet\u001b[39m[\u001b[32mInt\u001b[39m] = \u001b[33mTreeSet\u001b[39m(\u001b[32m1\u001b[39m, \u001b[32m2\u001b[39m, \u001b[32m3\u001b[39m, \u001b[32m6\u001b[39m)"
      ]
     },
     "execution_count": 41,
     "metadata": {},
     "output_type": "execute_result"
    }
   ],
   "source": [
    "import scala.collection.immutable.TreeSet\n",
    "\n",
    "val treeSet = TreeSet(3, 1, 4, 2)\n",
    "println(treeSet) \n",
    "\n",
    "//  Element exists or not\n",
    "println(s\"Element exists = ${treeSet(4)}\")\n",
    "println(s\"Element exists = ${treeSet(5)}\")\n",
    "\n",
    "// Add element in set\n",
    "val treeSet1 = treeSet + 6 // Creates a new set\n",
    "println(\"After element added, set : \" + treeSet1)\n",
    "\n",
    "// Remove element in set\n",
    "val treeSet2 = treeSet1 - 4\n",
    "println(\"After element removed, set: \" + treeSet2)"
   ]
  },
  {
   "cell_type": "markdown",
   "metadata": {},
   "source": [
    "### 5. Tuple\n",
    "\n",
    "Tuple is a collection of elements. Tuples are heterogeneous data structures, i.e., is they can store elements of different data types. A tuple is immutable, unlike an array in scala which is mutable."
   ]
  },
  {
   "cell_type": "code",
   "execution_count": 42,
   "metadata": {},
   "outputs": [
    {
     "name": "stdout",
     "output_type": "stream",
     "text": [
      "name: Rohan\n",
      "age: 25\n",
      "location: Hyderabad\n",
      "name: Rahul\n",
      "age: 27\n",
      "location: Banglore\n",
      "Rohan\n",
      "25\n",
      "Hyderabad\n"
     ]
    },
    {
     "data": {
      "text/html": [
       "<div class=\"jp-RenderedText\">\n",
       "<pre><code><span style=\"color: rgb(0, 187, 187)\"><span class=\"ansi-cyan-fg\">info</span></span>: (<span style=\"color: rgb(0, 187, 0)\"><span class=\"ansi-green-fg\">String</span></span>, <span style=\"color: rgb(0, 187, 0)\"><span class=\"ansi-green-fg\">Int</span></span>, <span style=\"color: rgb(0, 187, 0)\"><span class=\"ansi-green-fg\">String</span></span>) = (<span style=\"color: rgb(0, 187, 0)\"><span class=\"ansi-green-fg\">&quot;Rohan&quot;</span></span>, <span style=\"color: rgb(0, 187, 0)\"><span class=\"ansi-green-fg\">25</span></span>, <span style=\"color: rgb(0, 187, 0)\"><span class=\"ansi-green-fg\">&quot;Hyderabad&quot;</span></span>)\n",
       "<span style=\"color: rgb(0, 187, 187)\"><span class=\"ansi-cyan-fg\">a</span></span>: <span style=\"color: rgb(0, 187, 0)\"><span class=\"ansi-green-fg\">String</span></span> = <span style=\"color: rgb(0, 187, 0)\"><span class=\"ansi-green-fg\">&quot;Rahul&quot;</span></span>\n",
       "<span style=\"color: rgb(0, 187, 187)\"><span class=\"ansi-cyan-fg\">b</span></span>: <span style=\"color: rgb(0, 187, 0)\"><span class=\"ansi-green-fg\">Int</span></span> = <span style=\"color: rgb(0, 187, 0)\"><span class=\"ansi-green-fg\">27</span></span>\n",
       "<span style=\"color: rgb(0, 187, 187)\"><span class=\"ansi-cyan-fg\">c</span></span>: <span style=\"color: rgb(0, 187, 0)\"><span class=\"ansi-green-fg\">String</span></span> = <span style=\"color: rgb(0, 187, 0)\"><span class=\"ansi-green-fg\">&quot;Banglore&quot;</span></span></code></pre>\n",
       "</div>"
      ],
      "text/plain": [
       "\u001b[36minfo\u001b[39m: (\u001b[32mString\u001b[39m, \u001b[32mInt\u001b[39m, \u001b[32mString\u001b[39m) = (\u001b[32m\"Rohan\"\u001b[39m, \u001b[32m25\u001b[39m, \u001b[32m\"Hyderabad\"\u001b[39m)\n",
       "\u001b[36ma\u001b[39m: \u001b[32mString\u001b[39m = \u001b[32m\"Rahul\"\u001b[39m\n",
       "\u001b[36mb\u001b[39m: \u001b[32mInt\u001b[39m = \u001b[32m27\u001b[39m\n",
       "\u001b[36mc\u001b[39m: \u001b[32mString\u001b[39m = \u001b[32m\"Banglore\"\u001b[39m"
      ]
     },
     "metadata": {},
     "output_type": "display_data"
    }
   ],
   "source": [
    "var info = (\"Rohan\", 25, \"Hyderabad\")\n",
    " \n",
    "println(\"name: \" + info._1) // print 1st element\n",
    "println(\"age: \" + info._2) // print 2nd element\n",
    "println(\"location: \" + info._3) // print 3st element\n",
    "\n",
    "var (a, b, c) = (\"Rahul\", 27, \"Banglore\")\n",
    "println(\"name: \" + a)\n",
    "println(\"age: \" + b)\n",
    "println(\"location: \" + c)\n",
    "\n",
    "// The foreach method takes a function as parameter and applies it to  every element in the collection\n",
    "info.productIterator.foreach{i=>println(i)}"
   ]
  },
  {
   "cell_type": "markdown",
   "metadata": {},
   "source": [
    "### 6. Stack\n",
    "\n",
    "A stack is a data structure that follows the last-in, first-out(LIFO) principle. We can add or remove element only from one end called top. "
   ]
  },
  {
   "cell_type": "code",
   "execution_count": 43,
   "metadata": {},
   "outputs": [
    {
     "name": "stdout",
     "output_type": "stream",
     "text": [
      "Initial stack: Stack(3, 2, 1)\n",
      "Popped element: 3\n",
      "Stack after pop: Stack(2, 1)\n",
      "Top element: 2\n",
      "Size of stack: 2\n",
      "Is stack empty? false\n"
     ]
    },
    {
     "data": {
      "text/plain": [
       "\u001b[32mimport \u001b[39m\u001b[36mscala.collection.mutable.Stack\u001b[39m\n",
       "\u001b[36mstack\u001b[39m: \u001b[32mStack\u001b[39m[\u001b[32mInt\u001b[39m] = \u001b[33mStack\u001b[39m(\u001b[32m2\u001b[39m, \u001b[32m1\u001b[39m)\n",
       "\u001b[36mres43_2\u001b[39m: \u001b[32mStack\u001b[39m[\u001b[32mInt\u001b[39m] = \u001b[33mStack\u001b[39m(\u001b[32m2\u001b[39m, \u001b[32m1\u001b[39m)\n",
       "\u001b[36mres43_3\u001b[39m: \u001b[32mStack\u001b[39m[\u001b[32mInt\u001b[39m] = \u001b[33mStack\u001b[39m(\u001b[32m2\u001b[39m, \u001b[32m1\u001b[39m)\n",
       "\u001b[36mres43_4\u001b[39m: \u001b[32mStack\u001b[39m[\u001b[32mInt\u001b[39m] = \u001b[33mStack\u001b[39m(\u001b[32m2\u001b[39m, \u001b[32m1\u001b[39m)\n",
       "\u001b[36mpoppedElement\u001b[39m: \u001b[32mInt\u001b[39m = \u001b[32m3\u001b[39m\n",
       "\u001b[36mtopElement\u001b[39m: \u001b[32mInt\u001b[39m = \u001b[32m2\u001b[39m"
      ]
     },
     "execution_count": 43,
     "metadata": {},
     "output_type": "execute_result"
    }
   ],
   "source": [
    "import scala.collection.mutable.Stack\n",
    "\n",
    "// Create a new stack\n",
    "val stack = Stack[Int]()\n",
    "stack.push(1)\n",
    "stack.push(2)\n",
    "stack.push(3)\n",
    "\n",
    "println(\"Initial stack: \" + stack) \n",
    "// Pop an element\n",
    "val poppedElement = stack.pop()\n",
    "println(s\"Popped element: $poppedElement\") \n",
    "println(\"Stack after pop: \" + stack)\n",
    "\n",
    "// Peek at the top element\n",
    "val topElement = stack.top\n",
    "println(s\"Top element: $topElement\") \n",
    "\n",
    "// Check size and emptiness\n",
    "println(s\"Size of stack: ${stack.size}\")\n",
    "println(s\"Is stack empty? ${stack.isEmpty}\")"
   ]
  }
 ],
 "metadata": {
  "kernelspec": {
   "display_name": "Scala",
   "language": "scala",
   "name": "scala"
  },
  "language_info": {
   "codemirror_mode": "text/x-scala",
   "file_extension": ".sc",
   "mimetype": "text/x-scala",
   "name": "scala",
   "nbconvert_exporter": "script",
   "version": "2.13.14"
  }
 },
 "nbformat": 4,
 "nbformat_minor": 2
}
