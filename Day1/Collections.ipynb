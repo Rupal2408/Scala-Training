{
 "cells": [
  {
   "cell_type": "markdown",
   "metadata": {},
   "source": [
    "Collections\n",
    "\n",
    "1. Lists\n",
    "\n",
    "A list is a collection which contains immutable data. List represents linked list in Scala. The Scala List class holds a sequenced, linear list of items.\n",
    "\n",
    "In a Scala list, each element must be of the same type.\n",
    "The implementation of lists uses mutable state internally during construction.\n",
    "In Scala, list is defined under scala.collection.immutable package.\n",
    "A List has various methods to add, prepend, max, min, etc. to enhance the usage of list."
   ]
  },
  {
   "cell_type": "code",
   "execution_count": 3,
   "metadata": {},
   "outputs": [
    {
     "name": "stdout",
     "output_type": "stream",
     "text": [
      "List 1:\n",
      "List(Monday, Tuesday, Wedneday, Thursday)\n",
      "\n",
      "List 2:\n",
      "Jan\n",
      "Feb\n",
      "March\n",
      "The empty list is:\n",
      "List()\n",
      "The head of the list is: Monday\n",
      "The tail of the list is: List(Tuesday, Wedneday, Thursday)\n",
      "Is List Empty: false\n",
      "The reverse of the list is: List(March, Feb, Jan)\n"
     ]
    },
    {
     "data": {
      "text/plain": [
       "\u001b[36mmylist1\u001b[39m: \u001b[32mList\u001b[39m[\u001b[32mString\u001b[39m] = \u001b[33mList\u001b[39m(\u001b[32m\"Monday\"\u001b[39m, \u001b[32m\"Tuesday\"\u001b[39m, \u001b[32m\"Wedneday\"\u001b[39m, \u001b[32m\"Thursday\"\u001b[39m)\n",
       "\u001b[36mmylist2\u001b[39m: \u001b[32mList\u001b[39m[\u001b[32mString\u001b[39m] = \u001b[33mList\u001b[39m(\u001b[32m\"Jan\"\u001b[39m, \u001b[32m\"Feb\"\u001b[39m, \u001b[32m\"March\"\u001b[39m)\n",
       "\u001b[36memptylist\u001b[39m: \u001b[32mList\u001b[39m[\u001b[32mNothing\u001b[39m] = \u001b[33mList\u001b[39m()"
      ]
     },
     "execution_count": 3,
     "metadata": {},
     "output_type": "execute_result"
    }
   ],
   "source": [
    "           // Creating and initializing immutable lists \n",
    "        val mylist1: List[String] = List(\"Monday\", \"Tuesday\", \n",
    "                            \"Wedneday\", \"Thursday\") \n",
    "        val mylist2 = List(\"Jan\", \"Feb\", \"March\") \n",
    "  \n",
    "        // Display the value of mylist1 \n",
    "        println(\"List 1:\") \n",
    "        println(mylist1) \n",
    "  \n",
    "        // Display the value of mylist2 using for loop \n",
    "        println(\"\\nList 2:\") \n",
    "        for(mylist<-mylist2) \n",
    "        { \n",
    "            println(mylist) \n",
    "        } \n",
    "\n",
    "        // Creating an Empty List. \n",
    "        val emptylist: List[Nothing] = List() \n",
    "        println(\"The empty list is:\") \n",
    "        println(emptylist) \n",
    "\n",
    "        //Basic Operations on List\n",
    "        println(\"The head of the list is: \" + mylist1.head) // returns first element of list\n",
    "        println(\"The tail of the list is: \" + mylist1.tail) // returns list of all elements except first\n",
    "        println(\"Is List Empty: \" + mylist2.isEmpty) // returns if list is empty\n",
    "        println(\"The reverse of the list is: \" + mylist2.reverse) // reverse of list\n",
    "\n"
   ]
  },
  {
   "cell_type": "markdown",
   "metadata": {},
   "source": [
    "2. ListBuffer\n",
    "\n",
    "A list is a collection which contains immutable data. List represents linked list in Scala. A List is immutable, if we need to create a list that is constantly changing, the preferred approach is to use a ListBuffer.\n",
    "To use ListBuffer, scala.collection.mutable.ListBuffer class is imported, an instance of ListBuffer is created. "
   ]
  },
  {
   "cell_type": "code",
   "execution_count": 4,
   "metadata": {},
   "outputs": [
    {
     "name": "stdout",
     "output_type": "stream",
     "text": [
      "ListBuffer(1, 2, 3, 4)\n"
     ]
    },
    {
     "data": {
      "text/plain": [
       "\u001b[32mimport \u001b[39m\u001b[36mscala.collection.mutable.ListBuffer\u001b[39m\n",
       "\u001b[36mmutableList\u001b[39m: \u001b[32mListBuffer\u001b[39m[\u001b[32mInt\u001b[39m] = \u001b[33mListBuffer\u001b[39m(\u001b[32m1\u001b[39m, \u001b[32m2\u001b[39m, \u001b[32m3\u001b[39m, \u001b[32m4\u001b[39m)\n",
       "\u001b[36mres4_2\u001b[39m: \u001b[32mListBuffer\u001b[39m[\u001b[32mInt\u001b[39m] = \u001b[33mListBuffer\u001b[39m(\u001b[32m1\u001b[39m, \u001b[32m2\u001b[39m, \u001b[32m3\u001b[39m, \u001b[32m4\u001b[39m)"
      ]
     },
     "execution_count": 4,
     "metadata": {},
     "output_type": "execute_result"
    }
   ],
   "source": [
    "import scala.collection.mutable.ListBuffer\n",
    "\n",
    "val mutableList = ListBuffer(1, 2, 3)\n",
    "mutableList += 4 // Adding an element\n",
    "println(mutableList) // Output: ListBuffer(1, 2, 3, 4)"
   ]
  },
  {
   "cell_type": "markdown",
   "metadata": {},
   "source": [
    "3. Map\n",
    "\n",
    "Map is a collection of key-value pairs. In other words, it is similar to dictionary. Keys are always unique while values need not be unique. Key-value pairs can have any data type. However, data type once used for any key and value must be consistent throughout. Maps are classified into two types: mutable and immutable. By default Scala uses immutable Map. In order to use mutable Map, we must import scala.collection.mutable.Map class explicitly."
   ]
  },
  {
   "cell_type": "code",
   "execution_count": 7,
   "metadata": {},
   "outputs": [
    {
     "name": "stdout",
     "output_type": "stream",
     "text": [
      "HashMap(a -> 1, b -> 2)\n"
     ]
    },
    {
     "data": {
      "text/plain": [
       "\u001b[36mimmutableMap\u001b[39m: \u001b[32mMap\u001b[39m[\u001b[32mString\u001b[39m, \u001b[32mInt\u001b[39m] = \u001b[33mHashMap\u001b[39m(\u001b[32m\"a\"\u001b[39m -> \u001b[32m1\u001b[39m, \u001b[32m\"b\"\u001b[39m -> \u001b[32m2\u001b[39m)"
      ]
     },
     "execution_count": 7,
     "metadata": {},
     "output_type": "execute_result"
    }
   ],
   "source": [
    "val immutableMap = Map(\"a\" -> 1, \"b\" -> 2)\n",
    "println(immutableMap) // Output: Map(a -> 1, b -> 2, c -> 3)"
   ]
  },
  {
   "cell_type": "code",
   "execution_count": 6,
   "metadata": {},
   "outputs": [
    {
     "name": "stdout",
     "output_type": "stream",
     "text": [
      "HashMap(a -> 1, b -> 2, c -> 3)\n"
     ]
    },
    {
     "data": {
      "text/plain": [
       "\u001b[32mimport \u001b[39m\u001b[36mscala.collection.mutable.Map\u001b[39m\n",
       "\u001b[36mmutableMap\u001b[39m: \u001b[32mMap\u001b[39m[\u001b[32mString\u001b[39m, \u001b[32mInt\u001b[39m] = \u001b[33mHashMap\u001b[39m(\u001b[32m\"a\"\u001b[39m -> \u001b[32m1\u001b[39m, \u001b[32m\"b\"\u001b[39m -> \u001b[32m2\u001b[39m, \u001b[32m\"c\"\u001b[39m -> \u001b[32m3\u001b[39m)"
      ]
     },
     "execution_count": 6,
     "metadata": {},
     "output_type": "execute_result"
    }
   ],
   "source": [
    "import scala.collection.mutable.Map\n",
    "\n",
    "val mutableMap = Map(\"a\" -> 1, \"b\" -> 2)\n",
    "mutableMap(\"c\") = 3 // Adding a key-value pair\n",
    "println(mutableMap) // Output: Map(a -> 1, b -> 2, c -> 3)"
   ]
  }
 ],
 "metadata": {
  "kernelspec": {
   "display_name": "Scala",
   "language": "scala",
   "name": "scala"
  },
  "language_info": {
   "codemirror_mode": "text/x-scala",
   "file_extension": ".sc",
   "mimetype": "text/x-scala",
   "name": "scala",
   "nbconvert_exporter": "script",
   "version": "2.13.14"
  }
 },
 "nbformat": 4,
 "nbformat_minor": 2
}
