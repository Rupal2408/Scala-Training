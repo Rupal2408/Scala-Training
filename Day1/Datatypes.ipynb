{
 "cells": [
  {
   "cell_type": "markdown",
   "metadata": {},
   "source": [
    "Data types in Scala can be broadly categorized into two groups: Value Types and Reference Types. \n",
    "\n",
    "Value types:\n",
    "Int, Long, Double, Float, Short, Byte, Char, Boolean\n",
    "\n",
    "Also, Scala does not contain the concept of primitive type like in Java."
   ]
  },
  {
   "cell_type": "code",
   "execution_count": 6,
   "metadata": {},
   "outputs": [
    {
     "name": "stdout",
     "output_type": "stream",
     "text": [
      "boolean:true\n",
      "byte:126\n",
      "float:2.45\n",
      "integer:3\n",
      "short:45\n",
      "double:2.93846\n",
      "char:Z\n"
     ]
    },
    {
     "data": {
      "text/plain": [
       "\u001b[36ma\u001b[39m: \u001b[32mBoolean\u001b[39m = \u001b[32mtrue\u001b[39m\n",
       "\u001b[36mb\u001b[39m: \u001b[32mByte\u001b[39m = \u001b[32m126\u001b[39m\n",
       "\u001b[36mc\u001b[39m: \u001b[32mFloat\u001b[39m = \u001b[32m2.45F\u001b[39m\n",
       "\u001b[36md\u001b[39m: \u001b[32mInt\u001b[39m = \u001b[32m3\u001b[39m\n",
       "\u001b[36me\u001b[39m: \u001b[32mShort\u001b[39m = \u001b[32m45\u001b[39m\n",
       "\u001b[36mf\u001b[39m: \u001b[32mDouble\u001b[39m = \u001b[32m2.93846\u001b[39m\n",
       "\u001b[36mg\u001b[39m: \u001b[32mChar\u001b[39m = \u001b[32m'Z'\u001b[39m"
      ]
     },
     "execution_count": 6,
     "metadata": {},
     "output_type": "execute_result"
    }
   ],
   "source": [
    "    val a: Boolean = true\n",
    "    val b: Byte = 126\n",
    "    val c: Float = 2.45f\n",
    "    val d: Int = 3\n",
    "    val e: Short = 45\n",
    "    val f: Double = 2.93846\n",
    "    val g: Char = 'Z'\n",
    "    \n",
    "    println(\"boolean:\"+a)\n",
    "    println(\"byte:\" + b)\n",
    "    println(\"float:\" + c)\n",
    "    println(\"integer:\" + d)\n",
    "    println(\"short:\" + e)\n",
    "    println(\"double:\" + f)\n",
    "    println(\"char:\" + g)"
   ]
  },
  {
   "cell_type": "markdown",
   "metadata": {},
   "source": [
    "Reference Types:\n",
    "String, Collections, User defined types"
   ]
  },
  {
   "cell_type": "code",
   "execution_count": 7,
   "metadata": {},
   "outputs": [
    {
     "data": {
      "text/plain": [
       "\u001b[36mstr\u001b[39m: \u001b[32mString\u001b[39m = \u001b[32m\"Reference Datatypes\"\u001b[39m\n",
       "\u001b[36mlist\u001b[39m: \u001b[32mList\u001b[39m[\u001b[32mInt\u001b[39m] = \u001b[33mList\u001b[39m(\u001b[32m1\u001b[39m, \u001b[32m2\u001b[39m, \u001b[32m3\u001b[39m, \u001b[32m4\u001b[39m)\n",
       "\u001b[36marr\u001b[39m: \u001b[32mArray\u001b[39m[\u001b[32mInt\u001b[39m] = \u001b[33mArray\u001b[39m(\u001b[32m1\u001b[39m, \u001b[32m2\u001b[39m, \u001b[32m3\u001b[39m)\n",
       "\u001b[36mset\u001b[39m: \u001b[32mSet\u001b[39m[\u001b[32mInt\u001b[39m] = \u001b[33mSet\u001b[39m(\u001b[32m1\u001b[39m, \u001b[32m2\u001b[39m, \u001b[32m3\u001b[39m)"
      ]
     },
     "execution_count": 7,
     "metadata": {},
     "output_type": "execute_result"
    }
   ],
   "source": [
    "// String\n",
    "val str: String = \"Reference Datatypes\"\n",
    "\n",
    "// Collections\n",
    "//List\n",
    "val list: List[Int] = List(1, 2, 3, 4)\n",
    "\n",
    "//Arrays\n",
    "val arr: Array[Int] = Array(1, 2, 3)\n",
    "\n",
    "//Sets\n",
    "val set: Set[Int] = Set(1, 2, 3)\n"
   ]
  },
  {
   "cell_type": "markdown",
   "metadata": {},
   "source": [
    "Special Types\n",
    "\n",
    "Any: The supertype of all types in Scala.\n",
    "\n",
    "AnyVal: The supertype of all value types.\n",
    "\n",
    "AnyRef: The supertype of all reference types.\n",
    "\n",
    "Unit: Represents no value.\n",
    "\n",
    "Null: Represents a null reference (can only be assigned to reference types)."
   ]
  },
  {
   "cell_type": "code",
   "execution_count": 8,
   "metadata": {},
   "outputs": [
    {
     "name": "stdout",
     "output_type": "stream",
     "text": [
      "This could be anything\n",
      "42\n",
      "Int: 10, Double: 3.14\n",
      "String: Hello, Scala!, List: List(1, 2, 3)\n",
      "This function returns Unit.\n",
      "null\n"
     ]
    },
    {
     "data": {
      "text/plain": [
       "\u001b[36manyValue\u001b[39m: \u001b[32mAny\u001b[39m = \u001b[32m\"This could be anything\"\u001b[39m\n",
       "\u001b[36manotherValue\u001b[39m: \u001b[32mAny\u001b[39m = \u001b[32m42\u001b[39m\n",
       "\u001b[36mintValue\u001b[39m: \u001b[32mAnyVal\u001b[39m = \u001b[32m10\u001b[39m\n",
       "\u001b[36mdoubleValue\u001b[39m: \u001b[32mAnyVal\u001b[39m = \u001b[32m3.14\u001b[39m\n",
       "\u001b[36mstringValue\u001b[39m: \u001b[32mAnyRef\u001b[39m = \u001b[32m\"Hello, Scala!\"\u001b[39m\n",
       "\u001b[36mlistValue\u001b[39m: \u001b[32mAnyRef\u001b[39m = \u001b[33mList\u001b[39m(\u001b[32m1\u001b[39m, \u001b[32m2\u001b[39m, \u001b[32m3\u001b[39m)\n",
       "defined \u001b[32mfunction\u001b[39m \u001b[36mprintMessage\u001b[39m\n",
       "\u001b[36mnullValue\u001b[39m: \u001b[32mString\u001b[39m = \u001b[32mnull\u001b[39m"
      ]
     },
     "execution_count": 8,
     "metadata": {},
     "output_type": "execute_result"
    }
   ],
   "source": [
    "//Any\n",
    "val anyValue: Any = \"This could be anything\"\n",
    "println(anyValue) // This could be anything\n",
    "\n",
    "val anotherValue: Any = 42\n",
    "println(anotherValue) // 42\n",
    "\n",
    "//AnyVal\n",
    "val intValue: AnyVal = 10\n",
    "val doubleValue: AnyVal = 3.14\n",
    "println(s\"Int: $intValue, Double: $doubleValue\")\n",
    "\n",
    "//AnyRef\n",
    "val stringValue: AnyRef = \"Hello, Scala!\"\n",
    "val listValue: AnyRef = List(1, 2, 3)\n",
    "println(s\"String: $stringValue, List: $listValue\")\n",
    "\n",
    "//Unit\n",
    "def printMessage(): Unit = {\n",
    "    println(\"This function returns Unit.\")\n",
    "  }\n",
    "printMessage()\n",
    "\n",
    "//Null\n",
    "val nullValue: String = null // Can only be assigned to reference types\n",
    "println(nullValue) // Will print \"null\""
   ]
  }
 ],
 "metadata": {
  "kernelspec": {
   "display_name": "Scala",
   "language": "scala",
   "name": "scala"
  },
  "language_info": {
   "codemirror_mode": "text/x-scala",
   "file_extension": ".sc",
   "mimetype": "text/x-scala",
   "name": "scala",
   "nbconvert_exporter": "script",
   "version": "2.13.14"
  }
 },
 "nbformat": 4,
 "nbformat_minor": 2
}
