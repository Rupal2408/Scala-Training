{
 "cells": [
  {
   "cell_type": "markdown",
   "metadata": {},
   "source": [
    "# Arrays\n",
    "\n",
    "Arrays are a collection of elements of the same type, which can be one-dimensional (1-D) or multi-dimensional (like 2-D or 3-D arrays).\n",
    "\n",
    "### 1. 1-d Arrays"
   ]
  },
  {
   "cell_type": "code",
   "execution_count": 7,
   "metadata": {},
   "outputs": [
    {
     "name": "stdout",
     "output_type": "stream",
     "text": [
      "Array element at index 1 is : Science\n",
      "Array element at index 4 is : Geography\n",
      "After adding array elements : \n",
      "Rohan\n",
      "Rahul\n",
      "Maths\n",
      "Science\n",
      "History\n",
      "English\n",
      "Geography\n",
      "Rohan\n",
      "Rahul\n"
     ]
    },
    {
     "data": {
      "text/html": [
       "<div class=\"jp-RenderedText\">\n",
       "<pre><code><span style=\"color: rgb(0, 187, 0)\"><span class=\"ansi-green-fg\">import </span></span><span style=\"color: rgb(0, 187, 187)\"><span class=\"ansi-cyan-fg\">Array._</span></span>\n",
       "<span style=\"color: rgb(0, 187, 187)\"><span class=\"ansi-cyan-fg\">subjects</span></span>: <span style=\"color: rgb(0, 187, 0)\"><span class=\"ansi-green-fg\">Array</span></span>[<span style=\"color: rgb(0, 187, 0)\"><span class=\"ansi-green-fg\">String</span></span>] = <span style=\"color: yellow\"><span class=\"ansi-yellow-fg\">Array</span></span>(\n",
       "  <span style=\"color: rgb(0, 187, 0)\"><span class=\"ansi-green-fg\">&quot;Maths&quot;</span></span>,\n",
       "  <span style=\"color: rgb(0, 187, 0)\"><span class=\"ansi-green-fg\">&quot;Science&quot;</span></span>,\n",
       "  <span style=\"color: rgb(0, 187, 0)\"><span class=\"ansi-green-fg\">&quot;History&quot;</span></span>,\n",
       "  <span style=\"color: rgb(0, 187, 0)\"><span class=\"ansi-green-fg\">&quot;English&quot;</span></span>,\n",
       "  <span style=\"color: rgb(0, 187, 0)\"><span class=\"ansi-green-fg\">&quot;Geography&quot;</span></span>\n",
       ")\n",
       "<span style=\"color: rgb(0, 187, 187)\"><span class=\"ansi-cyan-fg\">names</span></span>: <span style=\"color: rgb(0, 187, 0)\"><span class=\"ansi-green-fg\">Array</span></span>[<span style=\"color: rgb(0, 187, 0)\"><span class=\"ansi-green-fg\">String</span></span>] = <span style=\"color: yellow\"><span class=\"ansi-yellow-fg\">Array</span></span>(<span style=\"color: rgb(0, 187, 0)\"><span class=\"ansi-green-fg\">&quot;Rohan&quot;</span></span>, <span style=\"color: rgb(0, 187, 0)\"><span class=\"ansi-green-fg\">&quot;Rahul&quot;</span></span>)\n",
       "<span style=\"color: rgb(0, 187, 187)\"><span class=\"ansi-cyan-fg\">arr</span></span>: <span style=\"color: rgb(0, 187, 0)\"><span class=\"ansi-green-fg\">Array</span></span>[<span style=\"color: rgb(0, 187, 0)\"><span class=\"ansi-green-fg\">String</span></span>] = <span style=\"color: yellow\"><span class=\"ansi-yellow-fg\">Array</span></span>(\n",
       "  <span style=\"color: rgb(0, 187, 0)\"><span class=\"ansi-green-fg\">&quot;Maths&quot;</span></span>,\n",
       "  <span style=\"color: rgb(0, 187, 0)\"><span class=\"ansi-green-fg\">&quot;Science&quot;</span></span>,\n",
       "  <span style=\"color: rgb(0, 187, 0)\"><span class=\"ansi-green-fg\">&quot;History&quot;</span></span>,\n",
       "  <span style=\"color: rgb(0, 187, 0)\"><span class=\"ansi-green-fg\">&quot;English&quot;</span></span>,\n",
       "  <span style=\"color: rgb(0, 187, 0)\"><span class=\"ansi-green-fg\">&quot;Geography&quot;</span></span>,\n",
       "  <span style=\"color: rgb(0, 187, 0)\"><span class=\"ansi-green-fg\">&quot;Rohan&quot;</span></span>,\n",
       "  <span style=\"color: rgb(0, 187, 0)\"><span class=\"ansi-green-fg\">&quot;Rahul&quot;</span></span>\n",
       ")</code></pre>\n",
       "</div>"
      ],
      "text/plain": [
       "\u001b[32mimport \u001b[39m\u001b[36mArray._\u001b[39m\n",
       "\u001b[36msubjects\u001b[39m: \u001b[32mArray\u001b[39m[\u001b[32mString\u001b[39m] = \u001b[33mArray\u001b[39m(\n",
       "  \u001b[32m\"Maths\"\u001b[39m,\n",
       "  \u001b[32m\"Science\"\u001b[39m,\n",
       "  \u001b[32m\"History\"\u001b[39m,\n",
       "  \u001b[32m\"English\"\u001b[39m,\n",
       "  \u001b[32m\"Geography\"\u001b[39m\n",
       ")\n",
       "\u001b[36mnames\u001b[39m: \u001b[32mArray\u001b[39m[\u001b[32mString\u001b[39m] = \u001b[33mArray\u001b[39m(\u001b[32m\"Rohan\"\u001b[39m, \u001b[32m\"Rahul\"\u001b[39m)\n",
       "\u001b[36marr\u001b[39m: \u001b[32mArray\u001b[39m[\u001b[32mString\u001b[39m] = \u001b[33mArray\u001b[39m(\n",
       "  \u001b[32m\"Maths\"\u001b[39m,\n",
       "  \u001b[32m\"Science\"\u001b[39m,\n",
       "  \u001b[32m\"History\"\u001b[39m,\n",
       "  \u001b[32m\"English\"\u001b[39m,\n",
       "  \u001b[32m\"Geography\"\u001b[39m,\n",
       "  \u001b[32m\"Rohan\"\u001b[39m,\n",
       "  \u001b[32m\"Rahul\"\u001b[39m\n",
       ")"
      ]
     },
     "metadata": {},
     "output_type": "display_data"
    }
   ],
   "source": [
    "import Array._\n",
    "var subjects = Array(\"Maths\", \"Science\", \"History\",  \n",
    "                    \"English\", \"Computer\") \n",
    "      \n",
    "       //Basic Operation on Array\n",
    "        println(\"Array element at index 1 is : \" + subjects(1))  // Accessing array element\n",
    "        \n",
    "        //Updating array element\n",
    "        subjects(4) = \"Geography\"\n",
    "        println(\"Array element at index 4 is : \" + subjects(4)) \n",
    "\n",
    "        //Adding element in an array\n",
    "        var names = new Array[String](2) \n",
    "        names(0)=\"Rohan\"\n",
    "        names(1)=\"Rahul\"\n",
    "\n",
    "        println(\"After adding array elements : \") \n",
    "        for ( m1 <-names ) \n",
    "        { \n",
    "            println(m1 ) \n",
    "        } \n",
    "\n",
    "        //concat arrays\n",
    "        var arr = concat( subjects, names) \n",
    "      \n",
    "    // Print all the array elements \n",
    "    for ( x <- arr )  \n",
    "    { \n",
    "        println( x ) \n",
    "    } "
   ]
  },
  {
   "cell_type": "markdown",
   "metadata": {},
   "source": [
    "### 2. Multi dimensional Arrays"
   ]
  },
  {
   "cell_type": "code",
   "execution_count": 8,
   "metadata": {},
   "outputs": [
    {
     "name": "stdout",
     "output_type": "stream",
     "text": [
      "1\n",
      "6\n",
      "10, 2, 3\n"
     ]
    },
    {
     "data": {
      "text/plain": [
       "\u001b[36marr\u001b[39m: \u001b[32mArray\u001b[39m[\u001b[32mArray\u001b[39m[\u001b[32mInt\u001b[39m]] = \u001b[33mArray\u001b[39m(\u001b[33mArray\u001b[39m(\u001b[32m10\u001b[39m, \u001b[32m2\u001b[39m, \u001b[32m3\u001b[39m), \u001b[33mArray\u001b[39m(\u001b[32m4\u001b[39m, \u001b[32m5\u001b[39m, \u001b[32m6\u001b[39m), \u001b[33mArray\u001b[39m(\u001b[32m7\u001b[39m, \u001b[32m8\u001b[39m, \u001b[32m9\u001b[39m))"
      ]
     },
     "execution_count": 8,
     "metadata": {},
     "output_type": "execute_result"
    }
   ],
   "source": [
    "// Creating a 2D array (3x3)\n",
    "    val arr: Array[Array[Int]] = Array(\n",
    "      Array(1, 2, 3),\n",
    "      Array(4, 5, 6),\n",
    "      Array(7, 8, 9)\n",
    "    )\n",
    "\n",
    "    // Accessing elements\n",
    "    println(arr(0)(0)) // Output: 1\n",
    "    println(arr(1)(2)) // Output: 6\n",
    "\n",
    "    // Modifying elements\n",
    "    arr(0)(0) = 10\n",
    "    println(arr(0).mkString(\", \")) // Output: 10, 2, 3"
   ]
  }
 ],
 "metadata": {
  "kernelspec": {
   "display_name": "Scala",
   "language": "scala",
   "name": "scala"
  },
  "language_info": {
   "codemirror_mode": "text/x-scala",
   "file_extension": ".sc",
   "mimetype": "text/x-scala",
   "name": "scala",
   "nbconvert_exporter": "script",
   "version": "2.13.14"
  }
 },
 "nbformat": 4,
 "nbformat_minor": 2
}
