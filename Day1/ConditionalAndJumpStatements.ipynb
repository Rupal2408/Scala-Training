{
 "cells": [
  {
   "cell_type": "markdown",
   "metadata": {},
   "source": [
    "# Conditional Statements:\n",
    "\n",
    "### a. if-else Statement\n",
    "\n",
    "The if statement allows you to execute a block of code based on a boolean condition."
   ]
  },
  {
   "cell_type": "code",
   "execution_count": 1,
   "metadata": {},
   "outputs": [
    {
     "name": "stdout",
     "output_type": "stream",
     "text": [
      "The number is positive.\n"
     ]
    },
    {
     "data": {
      "text/plain": [
       "\u001b[36mnumber\u001b[39m: \u001b[32mInt\u001b[39m = \u001b[32m20\u001b[39m"
      ]
     },
     "execution_count": 1,
     "metadata": {},
     "output_type": "execute_result"
    }
   ],
   "source": [
    "val number = 20\n",
    "    if (number > 0) {\n",
    "      println(\"The number is positive.\")\n",
    "    } else {\n",
    "      println(\"The number is non-positive.\")\n",
    "    }"
   ]
  },
  {
   "cell_type": "markdown",
   "metadata": {},
   "source": [
    "### b. If-else-if Statements:"
   ]
  },
  {
   "cell_type": "code",
   "execution_count": 2,
   "metadata": {},
   "outputs": [
    {
     "name": "stdout",
     "output_type": "stream",
     "text": [
      "Grade: B\n"
     ]
    },
    {
     "data": {
      "text/plain": [
       "\u001b[36mscore\u001b[39m: \u001b[32mInt\u001b[39m = \u001b[32m85\u001b[39m"
      ]
     },
     "execution_count": 2,
     "metadata": {},
     "output_type": "execute_result"
    }
   ],
   "source": [
    "val score = 85\n",
    "    if (score >= 90) {\n",
    "      println(\"Grade: A\")\n",
    "    } else if (score >= 80) {\n",
    "      println(\"Grade: B\")\n",
    "    } else if (score >= 70) {\n",
    "      println(\"Grade: C\")\n",
    "    } else {\n",
    "      println(\"Grade: F\")\n",
    "    }"
   ]
  },
  {
   "cell_type": "markdown",
   "metadata": {},
   "source": [
    "### c. Match Statement\n",
    "\n",
    "The match statement is a pattern matching construct, similar to switch-case in other languages."
   ]
  },
  {
   "cell_type": "code",
   "execution_count": 3,
   "metadata": {},
   "outputs": [
    {
     "name": "stdout",
     "output_type": "stream",
     "text": [
      "Wednesday\n"
     ]
    },
    {
     "data": {
      "text/plain": [
       "\u001b[36mday\u001b[39m: \u001b[32mInt\u001b[39m = \u001b[32m3\u001b[39m"
      ]
     },
     "execution_count": 3,
     "metadata": {},
     "output_type": "execute_result"
    }
   ],
   "source": [
    "val day = 3\n",
    "    day match {\n",
    "      case 1 => println(\"Monday\")\n",
    "      case 2 => println(\"Tuesday\")\n",
    "      case 3 => println(\"Wednesday\")\n",
    "      case 4 => println(\"Thursday\")\n",
    "      case 5 => println(\"Friday\")\n",
    "      case 6 => println(\"Saturday\")\n",
    "      case 7 => println(\"Sunday\")\n",
    "      case _ => println(\"Unknown day\")\n",
    "    }"
   ]
  },
  {
   "cell_type": "markdown",
   "metadata": {},
   "source": [
    "# Jump Statements:\n",
    "\n",
    "### a. Scala programming language provides a break method, which is used to break the execution of a program or a loop"
   ]
  },
  {
   "cell_type": "code",
   "execution_count": 5,
   "metadata": {},
   "outputs": [
    {
     "name": "stdout",
     "output_type": "stream",
     "text": [
      "1\n",
      "2\n",
      "3\n",
      "4\n"
     ]
    },
    {
     "data": {
      "text/plain": [
       "\u001b[32mimport \u001b[39m\u001b[36mscala.util.control.Breaks._\u001b[39m\n",
       "defined \u001b[32mfunction\u001b[39m \u001b[36mjump\u001b[39m"
      ]
     },
     "execution_count": 5,
     "metadata": {},
     "output_type": "execute_result"
    }
   ],
   "source": [
    "import scala.util.control.Breaks._\n",
    "\n",
    "def jump(): Unit = {\n",
    "    breakable {\n",
    "      for (i <- 1 to 10) {\n",
    "        if (i == 5) break() // This will exit the loop\n",
    "        println(i)\n",
    "      }\n",
    "    }\n",
    "}\n",
    "jump()"
   ]
  },
  {
   "cell_type": "markdown",
   "metadata": {},
   "source": [
    "### b. Return: To exit from a function and return a value."
   ]
  },
  {
   "cell_type": "code",
   "execution_count": 7,
   "metadata": {},
   "outputs": [
    {
     "name": "stdout",
     "output_type": "stream",
     "text": [
      "The sum is: 8\n"
     ]
    },
    {
     "data": {
      "text/plain": [
       "defined \u001b[32mfunction\u001b[39m \u001b[36madd\u001b[39m\n",
       "defined \u001b[32mfunction\u001b[39m \u001b[36mres\u001b[39m"
      ]
     },
     "execution_count": 7,
     "metadata": {},
     "output_type": "execute_result"
    }
   ],
   "source": [
    "def add(a: Int, b: Int): Int = {\n",
    "    return a + b\n",
    "  }\n",
    "\n",
    "def res(): Unit = {\n",
    "    val result = add(5, 3)\n",
    "    println(s\"The sum is: $result\") // Output: The sum is: 8\n",
    "}\n",
    "\n",
    "res()"
   ]
  }
 ],
 "metadata": {
  "kernelspec": {
   "display_name": "Scala",
   "language": "scala",
   "name": "scala"
  },
  "language_info": {
   "codemirror_mode": "text/x-scala",
   "file_extension": ".sc",
   "mimetype": "text/x-scala",
   "name": "scala",
   "nbconvert_exporter": "script",
   "version": "2.13.14"
  }
 },
 "nbformat": 4,
 "nbformat_minor": 2
}
