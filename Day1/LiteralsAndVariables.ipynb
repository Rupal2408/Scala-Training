{
 "cells": [
  {
   "cell_type": "markdown",
   "metadata": {},
   "source": [
    "Literals:\n",
    "\n",
    "Literals are fixed values/constants that are represented directly in the code. They can represent different data types, such as numbers, strings, characters, booleans, and more."
   ]
  },
  {
   "cell_type": "code",
   "execution_count": 1,
   "metadata": {},
   "outputs": [
    {
     "data": {
      "text/plain": [
       "\u001b[36mintLiteral\u001b[39m: \u001b[32mInt\u001b[39m = \u001b[32m42\u001b[39m\n",
       "\u001b[36mfloatLiteral\u001b[39m: \u001b[32mFloat\u001b[39m = \u001b[32m3.14F\u001b[39m\n",
       "\u001b[36mdoubleLiteral\u001b[39m: \u001b[32mDouble\u001b[39m = \u001b[32m2.718\u001b[39m\n",
       "\u001b[36mstringLiteral\u001b[39m: \u001b[32mString\u001b[39m = \u001b[32m\"Hello, World!\"\u001b[39m"
      ]
     },
     "execution_count": 1,
     "metadata": {},
     "output_type": "execute_result"
    }
   ],
   "source": [
    "val intLiteral: Int = 42\n",
    "val floatLiteral: Float = 3.14f\n",
    "val doubleLiteral: Double = 2.718\n",
    "val stringLiteral: String = \"Hello, World!\""
   ]
  },
  {
   "cell_type": "markdown",
   "metadata": {},
   "source": [
    "Variables:\n",
    "\n",
    "Variables in Scala can be defined using var or val.\n",
    "\n",
    "var: A mutable variable whose value can change.\n",
    "\n",
    "val: An immutable variable whose value cannot change after it has been assigned.\n"
   ]
  },
  {
   "cell_type": "code",
   "execution_count": 2,
   "metadata": {},
   "outputs": [
    {
     "name": "stdout",
     "output_type": "stream",
     "text": [
      "10\n",
      "20\n",
      "30\n"
     ]
    },
    {
     "data": {
      "text/plain": [
       "\u001b[36mmutableVariable\u001b[39m: \u001b[32mInt\u001b[39m = \u001b[32m20\u001b[39m\n",
       "\u001b[36mimmutableVariable\u001b[39m: \u001b[32mInt\u001b[39m = \u001b[32m30\u001b[39m"
      ]
     },
     "execution_count": 2,
     "metadata": {},
     "output_type": "execute_result"
    }
   ],
   "source": [
    "// using var\n",
    "var mutableVariable: Int = 10\n",
    "println(mutableVariable) // Output: 10\n",
    "\n",
    "mutableVariable = 20\n",
    "println(mutableVariable) // Output: 20\n",
    "\n",
    "//using val\n",
    "val immutableVariable: Int = 30\n",
    "println(immutableVariable) // Output: 30\n",
    "\n",
    "// The following line would cause a compilation error\n",
    "// immutableVariable = 40 // Error: reassignment to val"
   ]
  }
 ],
 "metadata": {
  "kernelspec": {
   "display_name": "Scala",
   "language": "scala",
   "name": "scala"
  },
  "language_info": {
   "codemirror_mode": "text/x-scala",
   "file_extension": ".sc",
   "mimetype": "text/x-scala",
   "name": "scala",
   "nbconvert_exporter": "script",
   "version": "2.13.14"
  }
 },
 "nbformat": 4,
 "nbformat_minor": 2
}
