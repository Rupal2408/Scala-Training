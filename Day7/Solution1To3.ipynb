{
 "cells": [
  {
   "cell_type": "markdown",
   "metadata": {},
   "source": [
    "### Question 1"
   ]
  },
  {
   "cell_type": "code",
   "execution_count": 1,
   "metadata": {},
   "outputs": [
    {
     "name": "stdout",
     "output_type": "stream",
     "text": [
      "Preparation for Pizza has been started.\n",
      "Cooking for Pizza has begun.\n",
      "Seasoning applied on Pizza.\n",
      "Food is ready.\n"
     ]
    },
    {
     "data": {
      "text/plain": [
       "defined \u001b[32mtrait\u001b[39m \u001b[36mGetStarted\u001b[39m\n",
       "defined \u001b[32mtrait\u001b[39m \u001b[36mCook\u001b[39m\n",
       "defined \u001b[32mtrait\u001b[39m \u001b[36mSeasoning\u001b[39m\n",
       "defined \u001b[32mclass\u001b[39m \u001b[36mFood\u001b[39m\n",
       "\u001b[36mdish\u001b[39m: \u001b[32mString\u001b[39m = \u001b[32m\"Pizza\"\u001b[39m\n",
       "\u001b[36mobj\u001b[39m: \u001b[32mFood\u001b[39m = ammonite.$sess.cmd1$Helper$Food@2120207e"
      ]
     },
     "execution_count": 1,
     "metadata": {},
     "output_type": "execute_result"
    }
   ],
   "source": [
    "trait GetStarted {\n",
    "    def prepare(dish: String):Unit = {\n",
    "        println(s\"Preparation for $dish has been started.\")\n",
    "    }\n",
    "}\n",
    "\n",
    "trait Cook extends GetStarted {\n",
    "    override def prepare(dish: String):Unit = {\n",
    "        super.prepare(dish)\n",
    "        println(s\"Cooking for $dish has begun.\")\n",
    "    }\n",
    "}\n",
    "\n",
    "trait Seasoning {\n",
    "    def applySeasoning(dish: String): Unit = {\n",
    "        println(s\"Seasoning applied on $dish.\")\n",
    "    }\n",
    "}\n",
    "\n",
    "class Food extends Cook with Seasoning {\n",
    "    def prepareFood(dish: String):Unit = {\n",
    "        super.prepare(dish)\n",
    "        super.applySeasoning(dish)\n",
    "        println(\"Food is ready.\")\n",
    "    }\n",
    "} \n",
    "\n",
    "val dish:String = \"Pizza\"\n",
    "val obj:Food = new Food()\n",
    "obj.prepareFood(dish)"
   ]
  },
  {
   "cell_type": "code",
   "execution_count": 7,
   "metadata": {},
   "outputs": [
    {
     "name": "stderr",
     "output_type": "stream",
     "text": [
      "cmd7.sc:7: method prepare in trait GetStarted is accessed from super. It may not be abstract unless it is overridden by a member declared `abstract` and `override`\n",
      "        super.prepare(dish)\n",
      "              ^\n",
      "Compilation Failed"
     ]
    }
   ],
   "source": [
    "trait GetStarted {\n",
    "    def prepare(dish: String):Unit\n",
    "}\n",
    "\n",
    "trait Cook extends GetStarted {\n",
    "     override def prepare(dish: String):Unit = {\n",
    "        super.prepare(dish)\n",
    "        println(s\"Preparation for $dish is completed.\")\n",
    "    }\n",
    "}\n",
    "\n",
    "trait Seasoning {\n",
    "    def applySeasoning(dish: String): Unit = {\n",
    "        println(s\"Seasoning applied on $dish.\")\n",
    "    }\n",
    "}\n",
    "\n",
    "class Food extends Cook with Seasoning {\n",
    "      def prepareFood(dish: String):Unit =   {\n",
    "        super.prepare(dish)\n",
    "        super.applySeasoning(dish)\n",
    "        println(\"Food is ready.\")\n",
    "    }\n",
    "} \n",
    "\n",
    "val dish:String = \"Pizza\"\n",
    "val obj:Food = new Food()\n",
    "obj.prepareFood(dish)"
   ]
  },
  {
   "cell_type": "code",
   "execution_count": 11,
   "metadata": {},
   "outputs": [
    {
     "name": "stdout",
     "output_type": "stream",
     "text": [
      "Preparation started for Pizza\n",
      "Cooking for Pizza has begun.\n",
      "Seasoning applied on Pizza.\n",
      "Food is ready.\n"
     ]
    },
    {
     "data": {
      "text/plain": [
       "defined \u001b[32mtrait\u001b[39m \u001b[36mGetStarted\u001b[39m\n",
       "defined \u001b[32mtrait\u001b[39m \u001b[36mCook\u001b[39m\n",
       "defined \u001b[32mtrait\u001b[39m \u001b[36mSeasoning\u001b[39m\n",
       "defined \u001b[32mclass\u001b[39m \u001b[36mFood\u001b[39m\n",
       "\u001b[36mdish\u001b[39m: \u001b[32mString\u001b[39m = \u001b[32m\"Pizza\"\u001b[39m\n",
       "\u001b[36mobj\u001b[39m: \u001b[32mFood\u001b[39m = ammonite.$sess.cmd11$Helper$Food@41188300"
      ]
     },
     "execution_count": 11,
     "metadata": {},
     "output_type": "execute_result"
    }
   ],
   "source": [
    "// Trait GetStarted with an abstract method prepare\n",
    "trait GetStarted {\n",
    "  def prepare(dish:String): Unit // Abstract method to be implemented by subclasses\n",
    "}\n",
    "\n",
    "// Trait Cook extends GetStarted and provides a concrete implementation of prepare\n",
    "trait Cook extends GetStarted {\n",
    "  override def prepare(dish:String): Unit = {\n",
    "    println(s\"Preparation started for $dish\")\n",
    "    // No need to call super.prepare() since it's fully implemented in Cook\n",
    "    println(s\"Cooking for $dish has begun.\")\n",
    "  }\n",
    "}\n",
    "\n",
    "// Trait Seasoning with a concrete method applySeasoning\n",
    "trait Seasoning {\n",
    "  def applySeasoning(dish:String): Unit = {\n",
    "    println(s\"Seasoning applied on $dish.\")\n",
    "  }\n",
    "}\n",
    "\n",
    "// Class Food extends Cook and mixes in Seasoning\n",
    "class Food extends Cook with Seasoning {\n",
    "  def prepareFood(dish:String): Unit = {\n",
    "    super.prepare(dish) // Calls the prepare method from Cook (which calls GetStarted.prepare)\n",
    "    super.applySeasoning(dish) // Calls the applySeasoning from Seasoning]\n",
    "    println(\"Food is ready.\")\n",
    "  }\n",
    "}\n",
    "\n",
    "// Testing the execution order]\n",
    "val dish:String = \"Pizza\"\n",
    "val obj:Food = new Food()\n",
    "obj.prepareFood(dish)\n",
    "\n"
   ]
  },
  {
   "cell_type": "markdown",
   "metadata": {},
   "source": [
    "No abstract override needed because Cook fully implements prepare(). The super.prepare() call isn't necessary unless we're using multiple layers of inheritance where each trait only adds some behavior and leaves the base implementation to be executed last."
   ]
  },
  {
   "cell_type": "markdown",
   "metadata": {},
   "source": [
    "### Question 2"
   ]
  },
  {
   "cell_type": "code",
   "execution_count": 4,
   "metadata": {},
   "outputs": [
    {
     "name": "stdout",
     "output_type": "stream",
     "text": [
      "pizza is packed.\n",
      "pasta is packed.\n"
     ]
    },
    {
     "data": {
      "text/plain": [
       "defined \u001b[32mtrait\u001b[39m \u001b[36mTask\u001b[39m\n",
       "defined \u001b[32mtrait\u001b[39m \u001b[36mCook\u001b[39m\n",
       "defined \u001b[32mtrait\u001b[39m \u001b[36mGarnish\u001b[39m\n",
       "defined \u001b[32mtrait\u001b[39m \u001b[36mPack\u001b[39m\n",
       "defined \u001b[32mclass\u001b[39m \u001b[36mActivity\u001b[39m\n",
       "\u001b[36mx\u001b[39m: \u001b[32mTask\u001b[39m = ammonite.$sess.cmd4$Helper$$anon$1@52d962b7\n",
       "\u001b[36my\u001b[39m: \u001b[32mTask\u001b[39m = ammonite.$sess.cmd4$Helper$$anon$2@6dd986c1"
      ]
     },
     "execution_count": 4,
     "metadata": {},
     "output_type": "execute_result"
    }
   ],
   "source": [
    "trait Task {\n",
    "    def doTask(dish: String): Unit = {\n",
    "        println(s\"Task is to make $dish.\")\n",
    "    }\n",
    "}\n",
    "\n",
    "trait Cook extends Task {\n",
    "    override  def doTask(dish: String): Unit = {\n",
    "        println(s\"Cooking started for $dish.\")\n",
    "    }\n",
    "}\n",
    "\n",
    "trait Garnish extends Cook {\n",
    "    override  def doTask(dish: String): Unit = {\n",
    "        println(s\"Garnish added to $dish.\")\n",
    "    }\n",
    "}\n",
    "\n",
    "trait Pack extends Garnish {\n",
    "    override def doTask(dish: String): Unit = {\n",
    "        println(s\"$dish is packed.\")\n",
    "    }\n",
    "}\n",
    "\n",
    "class Activity extends Task {\n",
    "    def doActivity(dish: String): Unit = {\n",
    "        super.doTask(dish)\n",
    "        println(\"Actiivty Completed.\")\n",
    "    }\n",
    "}\n",
    "\n",
    "val x:Task = new Activity() with Cook with Pack with Garnish\n",
    "x.doTask(\"Pizza\")   \n",
    "\n",
    "val y:Task = new Activity() with Pack with Garnish with Cook\n",
    "y.doTask(\"Pasta\")   "
   ]
  },
  {
   "cell_type": "markdown",
   "metadata": {},
   "source": [
    "### Question 3"
   ]
  },
  {
   "cell_type": "code",
   "execution_count": null,
   "metadata": {},
   "outputs": [],
   "source": [
    "import java.sql.{Connection, DriverManager, ResultSet, Statement}\n",
    "\n",
    "case class Candidate(sno:Int, name:String, city:String)\n",
    "\n",
    "implicit def tupleToCandidate(candidate: (Int,String,String)): Candidate = {\n",
    "  Candidate(candidate._1, candidate._2, candidate._3)\n",
    "}\n",
    "\n",
    "    def main(args: Array[String]): Unit = {\n",
    "\n",
    "        val candidateData: Array[(Int, String, String)] = Array(\n",
    "      (1, \"Alice\", \"New York\"),\n",
    "      (2, \"Bob\", \"Los Angeles\"),\n",
    "      (3, \"Charlie\", \"Chicago\"),\n",
    "      (4, \"Diana\", \"Houston\"),\n",
    "      (5, \"Eve\", \"Phoenix\"),\n",
    "      (6, \"Frank\", \"Philadelphia\"),\n",
    "      (7, \"Grace\", \"San Antonio\"),\n",
    "      (8, \"Hank\", \"San Diego\"),\n",
    "      (9, \"Ivy\", \"Dallas\"),\n",
    "      (10, \"Jack\", \"San Jose\"),\n",
    "      (11, \"Kathy\", \"Austin\"),\n",
    "      (12, \"Leo\", \"Jacksonville\"),\n",
    "      (13, \"Mona\", \"Fort Worth\"),\n",
    "      (14, \"Nina\", \"Columbus\"),\n",
    "      (15, \"Oscar\", \"Charlotte\"),\n",
    "      (16, \"Paul\", \"San Francisco\"),\n",
    "      (17, \"Quinn\", \"Indianapolis\"),\n",
    "      (18, \"Rita\", \"Seattle\"),\n",
    "      (19, \"Steve\", \"Denver\"),\n",
    "      (20, \"Tina\", \"Washington\"),\n",
    "      (21, \"Uma\", \"Boston\"),\n",
    "      (22, \"Vince\", \"El Paso\"),\n",
    "      (23, \"Wendy\", \"Detroit\"),\n",
    "      (24, \"Xander\", \"Nashville\"),\n",
    "      (25, \"Yara\", \"Portland\"),\n",
    "      (26, \"Zane\", \"Oklahoma City\"),\n",
    "      (27, \"Aiden\", \"Las Vegas\"),\n",
    "      (28, \"Bella\", \"Louisville\"),\n",
    "      (29, \"Caleb\", \"Baltimore\"),\n",
    "      (30, \"Daisy\", \"Milwaukee\"),\n",
    "      (31, \"Ethan\", \"Albuquerque\"),\n",
    "      (32, \"Fiona\", \"Tucson\"),\n",
    "      (33, \"George\", \"Fresno\"),\n",
    "      (34, \"Hazel\", \"Mesa\"),\n",
    "      (35, \"Ian\", \"Sacramento\"),\n",
    "      (36, \"Jill\", \"Atlanta\"),\n",
    "      (37, \"Kyle\", \"Kansas City\"),\n",
    "      (38, \"Luna\", \"Colorado Springs\"),\n",
    "      (39, \"Mason\", \"Miami\"),\n",
    "      (40, \"Nora\", \"Raleigh\"),\n",
    "      (41, \"Owen\", \"Omaha\"),\n",
    "      (42, \"Piper\", \"Long Beach\"),\n",
    "      (43, \"Quincy\", \"Virginia Beach\"),\n",
    "      (44, \"Ruby\", \"Oakland\"),\n",
    "      (45, \"Sam\", \"Minneapolis\"),\n",
    "      (46, \"Tara\", \"Tulsa\"),\n",
    "      (47, \"Ursula\", \"Arlington\"),\n",
    "      (48, \"Victor\", \"New Orleans\"),\n",
    "      (49, \"Wade\", \"Wichita\"),\n",
    "      (50, \"Xena\", \"Cleveland\")\n",
    "    )\n",
    "\n",
    "\n",
    "        // Load the JDBC driver\n",
    "        Class.forName(\"com.mysql.cj.jdbc.Driver\")\n",
    "\n",
    "        // Establish a connection\n",
    "        val url = \"jdbc:mysql://scaladb.mysql.database.azure.com:3306/rupal\"\n",
    "        val username = \"mysqladmin\"\n",
    "        val password = \"Password@12345\"\n",
    "        val connection: Connection = DriverManager.getConnection(url, username, password)\n",
    "\n",
    "        def createMethod(): Unit = {\n",
    "            try{\n",
    "            //Create a statement\n",
    "            val statement: Statement = connection.createStatement()\n",
    "\n",
    "            // Create a table\n",
    "            val createTableSql = \n",
    "            \"\"\"\n",
    "            Create table if not exists candidates(\n",
    "            sno int auto_increment primary key,\n",
    "            name varchar(200),\n",
    "            city varchar(255)\n",
    "            )\n",
    "            \"\"\"\n",
    "\n",
    "            statement.execute(createTableSql)\n",
    "            println(\"Table created successfully\")\n",
    "        } catch {\n",
    "            case e: Exception => e.printStackTrace()\n",
    "        }\n",
    "        }\n",
    "        \n",
    "        def insertMethod(candidate: Candidate): Unit = {\n",
    "            try{\n",
    "            // Insert data\n",
    "            val insertDataSql = \n",
    "            \"\"\"\n",
    "            insert into candiates(name,city) values ('James',27, 'james@example.com'), ('Brian',30,'brian@example.com'),('Rachel',32,'rachel@example.com')\n",
    "            \"\"\"            \n",
    "\n",
    "            statement.executeUpdate(insertDataSql)\n",
    "            println(\"Data inserted successfully\")\n",
    "        } catch {\n",
    "            case e: Exception => e.printStackTrace()\n",
    "        }}\n",
    "\n",
    "        def insertMethodProcess(candidateData: Array[(Int, String, String)]):Unit = {\n",
    "\n",
    "        }\n",
    "        \n",
    "        \n",
    "        try{\n",
    "        \n",
    "            \n",
    "\n",
    "            // Query the data\n",
    "            val selectQuery = \"select * from candidates\"\n",
    "            val resultSet: ResultSet = statement.executeQuery(selectQuery)\n",
    "\n",
    "            // Process the resultSet\n",
    "            while (resultSet.next()) {\n",
    "                val id = resultSet.getInt(\"id\")\n",
    "                val name = resultSet.getString(\"name\")\n",
    "                val city = resultSet.getString(\"city\")\n",
    "                println(s\"ID: $id, Name: $name, City: $city\")\n",
    "                }\n",
    "                } catch {\n",
    "                    case e: Exception => e.printStackTrace()\n",
    "                    } finally {\n",
    "                        // Close Statement and Connection\n",
    "                        connection.close()\n",
    "                        }\n",
    "                        }"
   ]
  }
 ],
 "metadata": {
  "kernelspec": {
   "display_name": "Scala",
   "language": "scala",
   "name": "scala"
  },
  "language_info": {
   "codemirror_mode": "text/x-scala",
   "file_extension": ".sc",
   "mimetype": "text/x-scala",
   "name": "scala",
   "nbconvert_exporter": "script",
   "version": "2.13.14"
  }
 },
 "nbformat": 4,
 "nbformat_minor": 2
}
