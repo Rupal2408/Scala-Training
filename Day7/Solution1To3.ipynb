{
 "cells": [
  {
   "cell_type": "markdown",
   "metadata": {},
   "source": [
    "### Question 1"
   ]
  },
  {
   "cell_type": "code",
   "execution_count": 12,
   "metadata": {},
   "outputs": [
    {
     "name": "stdout",
     "output_type": "stream",
     "text": [
      "Preparation for Pizza has been started.\n",
      "Cooking for Pizza has begun.\n",
      "Seasoning applied on Pizza.\n",
      "Food is ready.\n"
     ]
    },
    {
     "data": {
      "text/plain": [
       "defined \u001b[32mtrait\u001b[39m \u001b[36mGetStarted\u001b[39m\n",
       "defined \u001b[32mtrait\u001b[39m \u001b[36mCook\u001b[39m\n",
       "defined \u001b[32mtrait\u001b[39m \u001b[36mSeasoning\u001b[39m\n",
       "defined \u001b[32mclass\u001b[39m \u001b[36mFood\u001b[39m\n",
       "\u001b[36mdish\u001b[39m: \u001b[32mString\u001b[39m = \u001b[32m\"Pizza\"\u001b[39m\n",
       "\u001b[36mobj\u001b[39m: \u001b[32mFood\u001b[39m = ammonite.$sess.cmd12$Helper$Food@6aec7c4"
      ]
     },
     "execution_count": 12,
     "metadata": {},
     "output_type": "execute_result"
    }
   ],
   "source": [
    "trait GetStarted {\n",
    "    def prepare(dish: String):Unit = {\n",
    "        println(s\"Preparation for $dish has been started.\")\n",
    "    }\n",
    "}\n",
    "\n",
    "trait Cook extends GetStarted {\n",
    "    override def prepare(dish: String):Unit = {\n",
    "        super.prepare(dish)\n",
    "        println(s\"Cooking for $dish has begun.\")\n",
    "    }\n",
    "}\n",
    "\n",
    "trait Seasoning {\n",
    "    def applySeasoning(dish: String): Unit = {\n",
    "        println(s\"Seasoning applied on $dish.\")\n",
    "    }\n",
    "}\n",
    "\n",
    "class Food extends Cook with Seasoning {\n",
    "    def prepareFood(dish: String):Unit = {\n",
    "        super.prepare(dish)\n",
    "        super.applySeasoning(dish)\n",
    "        println(\"Food is ready.\")\n",
    "    }\n",
    "} \n",
    "\n",
    "val dish:String = \"Pizza\"\n",
    "val obj:Food = new Food()\n",
    "obj.prepareFood(dish)\n",
    "\n",
    "// Have only used the override keyword to override the function prepare, no need of abstract keyword"
   ]
  },
  {
   "cell_type": "markdown",
   "metadata": {},
   "source": [
    "Using abstract prepare method in GetStarted:"
   ]
  },
  {
   "cell_type": "code",
   "execution_count": 17,
   "metadata": {},
   "outputs": [
    {
     "name": "stderr",
     "output_type": "stream",
     "text": [
      "cmd17.sc:7: method prepare in trait GetStarted is accessed from super. It may not be abstract unless it is overridden by a member declared `abstract` and `override`\n",
      "        super.prepare(dish)\n",
      "              ^\n",
      "Compilation Failed"
     ]
    }
   ],
   "source": [
    "trait GetStarted {\n",
    "    def prepare(dish: String):Unit\n",
    "}\n",
    "\n",
    "trait Cook extends GetStarted {\n",
    "    override def prepare(dish: String):Unit = {\n",
    "        super.prepare(dish)\n",
    "        println(s\"Cooking for $dish has begun.\")\n",
    "    }\n",
    "}\n",
    "\n",
    "trait Seasoning {\n",
    "    def applySeasoning(dish: String): Unit = {\n",
    "        println(s\"Seasoning applied on $dish.\")\n",
    "    }\n",
    "}\n",
    "\n",
    "class Food extends Cook with Seasoning {\n",
    "    def prepareFood(dish: String):Unit = {\n",
    "        super.prepare(dish)\n",
    "        super.applySeasoning(dish)\n",
    "        println(\"Food is ready.\")\n",
    "    }\n",
    "} \n",
    "\n",
    "val dish:String = \"Pizza\"\n",
    "val obj:Food = new Food()\n",
    "obj.prepareFood(dish)"
   ]
  },
  {
   "cell_type": "markdown",
   "metadata": {},
   "source": [
    "Compilation fails, as the Cook calls for super method of Get Started which is an abstract method, we need a base implemention if a method is to be called. "
   ]
  },
  {
   "cell_type": "code",
   "execution_count": 17,
   "metadata": {},
   "outputs": [
    {
     "name": "stdout",
     "output_type": "stream",
     "text": [
      "Ingrediants prepared for Pizza.\n",
      "Cooking for Pizza has begun.\n",
      "Seasoning applied on Pizza.\n",
      "Food is ready.\n"
     ]
    },
    {
     "data": {
      "text/plain": [
       "defined \u001b[32mtrait\u001b[39m \u001b[36mGetStarted\u001b[39m\n",
       "defined \u001b[32mtrait\u001b[39m \u001b[36mKeepIngrediants\u001b[39m\n",
       "defined \u001b[32mtrait\u001b[39m \u001b[36mCook\u001b[39m\n",
       "defined \u001b[32mtrait\u001b[39m \u001b[36mSeasoning\u001b[39m\n",
       "defined \u001b[32mclass\u001b[39m \u001b[36mFood\u001b[39m\n",
       "\u001b[36mdish\u001b[39m: \u001b[32mString\u001b[39m = \u001b[32m\"Pizza\"\u001b[39m\n",
       "\u001b[36mobj\u001b[39m: \u001b[32mFood\u001b[39m = ammonite.$sess.cmd17$Helper$Food@11e4f564"
      ]
     },
     "execution_count": 17,
     "metadata": {},
     "output_type": "execute_result"
    }
   ],
   "source": [
    "trait GetStarted {\n",
    "  def prepare(dish:String): Unit // Abstract method to be implemented by subclasses\n",
    "}\n",
    "\n",
    "trait KeepIngrediants extends GetStarted{\n",
    "  def prepare(dish:String): Unit = {\n",
    "    println(s\"Ingrediants prepared for $dish.\")\n",
    "  }\n",
    "}\n",
    "\n",
    "trait Cook extends KeepIngrediants {\n",
    "   override def prepare(dish:String): Unit = {\n",
    "    super.prepare(dish)\n",
    "    println(s\"Cooking for $dish has begun.\")\n",
    "  }\n",
    "}\n",
    "\n",
    "trait Seasoning {\n",
    "  def applySeasoning(dish:String): Unit = {\n",
    "    println(s\"Seasoning applied on $dish.\")\n",
    "  }\n",
    "}\n",
    "\n",
    "class Food extends Cook with Seasoning {\n",
    "  override def prepare(dish:String): Unit =  {\n",
    "    super.prepare(dish) \n",
    "    super.applySeasoning(dish) \n",
    "    println(\"Food is ready.\")\n",
    "  }\n",
    "}\n",
    "\n",
    "val dish:String = \"Pizza\"\n",
    "val obj:Food = new Food()\n",
    "obj.prepare(dish)\n",
    "\n"
   ]
  },
  {
   "cell_type": "markdown",
   "metadata": {},
   "source": [
    "No abstract override needed because KeepIngrediants fully implements prepare()."
   ]
  },
  {
   "cell_type": "markdown",
   "metadata": {},
   "source": [
    "### Question 2"
   ]
  },
  {
   "cell_type": "code",
   "execution_count": 15,
   "metadata": {},
   "outputs": [
    {
     "name": "stdout",
     "output_type": "stream",
     "text": [
      "Pizza is packed.\n",
      "Pasta is packed.\n"
     ]
    },
    {
     "data": {
      "text/plain": [
       "defined \u001b[32mtrait\u001b[39m \u001b[36mTask\u001b[39m\n",
       "defined \u001b[32mtrait\u001b[39m \u001b[36mCook\u001b[39m\n",
       "defined \u001b[32mtrait\u001b[39m \u001b[36mGarnish\u001b[39m\n",
       "defined \u001b[32mtrait\u001b[39m \u001b[36mPack\u001b[39m\n",
       "defined \u001b[32mclass\u001b[39m \u001b[36mActivity\u001b[39m\n",
       "\u001b[36mx\u001b[39m: \u001b[32mTask\u001b[39m = ammonite.$sess.cmd15$Helper$$anon$1@1e524824\n",
       "\u001b[36my\u001b[39m: \u001b[32mTask\u001b[39m = ammonite.$sess.cmd15$Helper$$anon$2@8f183bc"
      ]
     },
     "execution_count": 15,
     "metadata": {},
     "output_type": "execute_result"
    }
   ],
   "source": [
    "trait Task {\n",
    "    def doTask(dish: String): Unit = {\n",
    "        println(s\"Task is to make $dish.\")\n",
    "    }\n",
    "}\n",
    "\n",
    "trait Cook extends Task {\n",
    "    override  def doTask(dish: String): Unit = {\n",
    "        println(s\"Cooking started for $dish.\")\n",
    "    }\n",
    "}\n",
    "\n",
    "trait Garnish extends Cook {\n",
    "    override  def doTask(dish: String): Unit = {\n",
    "        println(s\"Garnish added to $dish.\")\n",
    "    }\n",
    "}\n",
    "\n",
    "trait Pack extends Garnish {\n",
    "    override def doTask(dish: String): Unit = {\n",
    "        println(s\"$dish is packed.\")\n",
    "    }\n",
    "}\n",
    "\n",
    "class Activity extends Task {\n",
    "    def doActivity(dish: String): Unit = {\n",
    "        super.doTask(dish)\n",
    "        println(\"Actiivty Completed.\")\n",
    "    }\n",
    "}\n",
    "\n",
    "val x:Task = new Activity() with Cook with Pack with Garnish\n",
    "x.doTask(\"Pizza\")   \n",
    "\n",
    "val y:Task = new Activity() with Pack with Garnish with Cook\n",
    "y.doTask(\"Pasta\")   "
   ]
  },
  {
   "cell_type": "markdown",
   "metadata": {},
   "source": [
    "### Question 3"
   ]
  },
  {
   "cell_type": "code",
   "execution_count": 16,
   "metadata": {},
   "outputs": [
    {
     "data": {
      "text/plain": [
       "\u001b[32mimport \u001b[39m\u001b[36mjava.sql.{Connection, DriverManager, ResultSet, Statement, PreparedStatement}\u001b[39m\n",
       "\u001b[32mimport \u001b[39m\u001b[36mscala.language.implicitConversions\u001b[39m\n",
       "defined \u001b[32mclass\u001b[39m \u001b[36mCandidate\u001b[39m\n",
       "defined \u001b[32mfunction\u001b[39m \u001b[36mtupleToCandidate\u001b[39m\n",
       "defined \u001b[32mfunction\u001b[39m \u001b[36minsertCandidateDataDB\u001b[39m\n",
       "defined \u001b[32mfunction\u001b[39m \u001b[36mselectCandidateDataDB\u001b[39m\n",
       "defined \u001b[32mfunction\u001b[39m \u001b[36mcreataCandidateTableDB\u001b[39m\n",
       "defined \u001b[32mobject\u001b[39m \u001b[36mCandidateDatabaseOp\u001b[39m"
      ]
     },
     "execution_count": 16,
     "metadata": {},
     "output_type": "execute_result"
    }
   ],
   "source": [
    "import java.sql.{Connection, DriverManager, ResultSet, Statement, PreparedStatement}\n",
    "import scala.language.implicitConversions\n",
    "\n",
    "case class Candidate(sno:Int, name:String, city:String)\n",
    "\n",
    "implicit def tupleToCandidate(candidate: (Int,String,String)): Candidate = {\n",
    "  Candidate(candidate._1, candidate._2, candidate._3)\n",
    "}\n",
    "\n",
    "def insertCandidateDataDB(connection:Connection, candidate: Candidate): Unit = {\n",
    "    val statement: PreparedStatement = connection.prepareStatement(\"insert into candiates(name,city) values (?, ?)\")\n",
    "    statement.setString(1, candidate.name)\n",
    "    statement.setString(2, candidate.city)\n",
    "    statement.executeUpdate()\n",
    "    println(s\" Candidate ${candidate.name} data inserted successfully\")\n",
    "}\n",
    "\n",
    "def selectCandidateDataDB(connection: Connection): Unit = {\n",
    "    val selectQuery = \"select * from candidates\"\n",
    "    val statement: Statement = connection.createStatement()\n",
    "    val resultSet: ResultSet = statement.executeQuery(selectQuery)\n",
    "    println(\"Candidates info in the database:\")\n",
    "    while (resultSet.next()) {\n",
    "        val sno = resultSet.getInt(\"sno\")\n",
    "        val name = resultSet.getString(\"name\")\n",
    "        val city = resultSet.getString(\"city\")\n",
    "        println(s\"SNO: $sno, Name: $name, City: $city\")\n",
    "    }\n",
    "}\n",
    "\n",
    "def creataCandidateTableDB(connection: Connection): Unit = {\n",
    "    val statement: Statement = connection.createStatement()\n",
    "    // Create a table\n",
    "    val createTableSql = \n",
    "     \"\"\"\n",
    "    Create table if not exists candidates(\n",
    "    sno int auto_increment primary key,\n",
    "    name varchar(200),\n",
    "    city varchar(255)\n",
    "    )\n",
    "    \"\"\"\n",
    "    statement.execute(createTableSql)\n",
    "    println(\"Table created successfully\")\n",
    "}\n",
    "\n",
    "object CandidateDatabaseOp{\n",
    "    def main(args: Array[String]): Unit = {\n",
    "        val candidateData: Array[(Int, String, String)] = Array(\n",
    "      (1, \"Alice\", \"New York\"),\n",
    "      (2, \"Bob\", \"Los Angeles\"),\n",
    "      (3, \"Charlie\", \"Chicago\"),\n",
    "      (4, \"Diana\", \"Houston\"),\n",
    "      (5, \"Eve\", \"Phoenix\"),\n",
    "      (6, \"Frank\", \"Philadelphia\"),\n",
    "      (7, \"Grace\", \"San Antonio\"),\n",
    "      (8, \"Hank\", \"San Diego\"),\n",
    "      (9, \"Ivy\", \"Dallas\"),\n",
    "      (10, \"Jack\", \"San Jose\"),\n",
    "      (11, \"Kathy\", \"Austin\"),\n",
    "      (12, \"Leo\", \"Jacksonville\"),\n",
    "      (13, \"Mona\", \"Fort Worth\"),\n",
    "      (14, \"Nina\", \"Columbus\"),\n",
    "      (15, \"Oscar\", \"Charlotte\"),\n",
    "      (16, \"Paul\", \"San Francisco\"),\n",
    "      (17, \"Quinn\", \"Indianapolis\"),\n",
    "      (18, \"Rita\", \"Seattle\"),\n",
    "      (19, \"Steve\", \"Denver\"),\n",
    "      (20, \"Tina\", \"Washington\"),\n",
    "      (21, \"Uma\", \"Boston\"),\n",
    "      (22, \"Vince\", \"El Paso\"),\n",
    "      (23, \"Wendy\", \"Detroit\"),\n",
    "      (24, \"Xander\", \"Nashville\"),\n",
    "      (25, \"Yara\", \"Portland\"),\n",
    "      (26, \"Zane\", \"Oklahoma City\"),\n",
    "      (27, \"Aiden\", \"Las Vegas\"),\n",
    "      (28, \"Bella\", \"Louisville\"),\n",
    "      (29, \"Caleb\", \"Baltimore\"),\n",
    "      (30, \"Daisy\", \"Milwaukee\"),\n",
    "      (31, \"Ethan\", \"Albuquerque\"),\n",
    "      (32, \"Fiona\", \"Tucson\"),\n",
    "      (33, \"George\", \"Fresno\"),\n",
    "      (34, \"Hazel\", \"Mesa\"),\n",
    "      (35, \"Ian\", \"Sacramento\"),\n",
    "      (36, \"Jill\", \"Atlanta\"),\n",
    "      (37, \"Kyle\", \"Kansas City\"),\n",
    "      (38, \"Luna\", \"Colorado Springs\"),\n",
    "      (39, \"Mason\", \"Miami\"),\n",
    "      (40, \"Nora\", \"Raleigh\"),\n",
    "      (41, \"Owen\", \"Omaha\"),\n",
    "      (42, \"Piper\", \"Long Beach\"),\n",
    "      (43, \"Quincy\", \"Virginia Beach\"),\n",
    "      (44, \"Ruby\", \"Oakland\"),\n",
    "      (45, \"Sam\", \"Minneapolis\"),\n",
    "      (46, \"Tara\", \"Tulsa\"),\n",
    "      (47, \"Ursula\", \"Arlington\"),\n",
    "      (48, \"Victor\", \"New Orleans\"),\n",
    "      (49, \"Wade\", \"Wichita\"),\n",
    "      (50, \"Xena\", \"Cleveland\")\n",
    "    )\n",
    "\n",
    "        // Load the JDBC driver\n",
    "        Class.forName(\"com.mysql.cj.jdbc.Driver\")\n",
    "\n",
    "        // Establish a connection\n",
    "        val url = \"jdbc:mysql://scaladb.mysql.database.azure.com:3306/rupal\"\n",
    "        val username = \"mysqladmin\"\n",
    "        val password = \"XXXXXXXX\"\n",
    "        val connection: Connection = DriverManager.getConnection(url, username, password)\n",
    "\n",
    "        try{\n",
    "            creataCandidateTableDB(connection)\n",
    "            candidateData.foreach(candidate => insertCandidateDataDB(connection, candidate))\n",
    "            selectCandidateDataDB(connection)\n",
    "        } catch {\n",
    "            case e: Exception => e.printStackTrace()\n",
    "        } finally {\n",
    "            // Close Statement and Connection\n",
    "            connection.close()\n",
    "        }   \n",
    "    }   \n",
    "}"
   ]
  }
 ],
 "metadata": {
  "kernelspec": {
   "display_name": "Scala",
   "language": "scala",
   "name": "scala"
  },
  "language_info": {
   "codemirror_mode": "text/x-scala",
   "file_extension": ".sc",
   "mimetype": "text/x-scala",
   "name": "scala",
   "nbconvert_exporter": "script",
   "version": "2.13.14"
  }
 },
 "nbformat": 4,
 "nbformat_minor": 2
}
