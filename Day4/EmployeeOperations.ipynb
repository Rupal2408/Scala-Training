{
 "cells": [
  {
   "cell_type": "markdown",
   "metadata": {},
   "source": [
    "## Create case class to represent Entity"
   ]
  },
  {
   "cell_type": "code",
   "execution_count": 12,
   "metadata": {},
   "outputs": [
    {
     "data": {
      "text/plain": [
       "defined \u001b[32mclass\u001b[39m \u001b[36mEmployee\u001b[39m"
      ]
     },
     "execution_count": 12,
     "metadata": {},
     "output_type": "execute_result"
    }
   ],
   "source": [
    "case class Employee(sno: Int, name: String, city: String, salary: Int, department: String)"
   ]
  },
  {
   "cell_type": "markdown",
   "metadata": {},
   "source": [
    "## Read csv file and add all records in the list"
   ]
  },
  {
   "cell_type": "code",
   "execution_count": 13,
   "metadata": {},
   "outputs": [
    {
     "data": {
      "text/plain": [
       "\u001b[32mimport \u001b[39m\u001b[36mscala.io.Source\u001b[39m\n",
       "\u001b[36mfile\u001b[39m: \u001b[32mString\u001b[39m = \u001b[32m\"data.csv\"\u001b[39m\n",
       "\u001b[36mdelimeter\u001b[39m: \u001b[32mString\u001b[39m = \u001b[32m\",\"\u001b[39m\n",
       "\u001b[36memployees\u001b[39m: \u001b[32mList\u001b[39m[\u001b[32mEmployee\u001b[39m] = \u001b[33mList\u001b[39m(\n",
       "  \u001b[33mEmployee\u001b[39m(\n",
       "    sno = \u001b[32m1\u001b[39m,\n",
       "    name = \u001b[32m\"John Doe\"\u001b[39m,\n",
       "    city = \u001b[32m\"New York\"\u001b[39m,\n",
       "    salary = \u001b[32m60000\u001b[39m,\n",
       "    department = \u001b[32m\"Marketing\"\u001b[39m\n",
       "  ),\n",
       "  \u001b[33mEmployee\u001b[39m(\n",
       "    sno = \u001b[32m2\u001b[39m,\n",
       "    name = \u001b[32m\"Jane Smith\"\u001b[39m,\n",
       "    city = \u001b[32m\"Los Angeles\"\u001b[39m,\n",
       "    salary = \u001b[32m55000\u001b[39m,\n",
       "    department = \u001b[32m\"Finance\"\u001b[39m\n",
       "  ),\n",
       "  \u001b[33mEmployee\u001b[39m(\n",
       "    sno = \u001b[32m3\u001b[39m,\n",
       "    name = \u001b[32m\"Michael Johnson\"\u001b[39m,\n",
       "    city = \u001b[32m\"Chicago\"\u001b[39m,\n",
       "    salary = \u001b[32m62000\u001b[39m,\n",
       "    department = \u001b[32m\"HR\"\u001b[39m\n",
       "  ),\n",
       "  \u001b[33mEmployee\u001b[39m(\n",
       "    sno = \u001b[32m4\u001b[39m,\n",
       "    name = \u001b[32m\"Sarah Lee\"\u001b[39m,\n",
       "    city = \u001b[32m\"San Francisco\"\u001b[39m,\n",
       "    salary = \u001b[32m58000\u001b[39m,\n",
       "    department = \u001b[32m\"Engineering\"\u001b[39m\n",
       "  ),\n",
       "  \u001b[33mEmployee\u001b[39m(\n",
       "    sno = \u001b[32m5\u001b[39m,\n",
       "    name = \u001b[32m\"David Brown\"\u001b[39m,\n",
       "    city = \u001b[32m\"Houston\"\u001b[39m,\n",
       "    salary = \u001b[32m63000\u001b[39m,\n",
       "    department = \u001b[32m\"Operations\"\u001b[39m\n",
       "  ),\n",
       "  \u001b[33mEmployee\u001b[39m(\n",
       "    sno = \u001b[32m6\u001b[39m,\n",
       "    name = \u001b[32m\"Emily Taylor\"\u001b[39m,\n",
       "..."
      ]
     },
     "execution_count": 13,
     "metadata": {},
     "output_type": "execute_result"
    }
   ],
   "source": [
    "import scala.io.Source\n",
    "\n",
    "val file = \"data.csv\"\n",
    "val delimeter = \",\"\n",
    "val employees : List[Employee] = Source.fromFile(file).getLines().drop(1) // skip header\n",
    "                                  .toList.map{ line =>\n",
    "                                  val fields = line.split(delimeter).map(_.trim)\n",
    "                                  Employee(fields(0).toInt, fields(1), fields(2), fields(3).toInt, fields(4))\n",
    "                                  }"
   ]
  },
  {
   "cell_type": "markdown",
   "metadata": {},
   "source": [
    "## Perform filter operations based on salary and departments"
   ]
  },
  {
   "cell_type": "code",
   "execution_count": 14,
   "metadata": {},
   "outputs": [
    {
     "data": {
      "text/plain": [
       "\u001b[36mfilteredEmployeeList\u001b[39m: \u001b[32mList\u001b[39m[\u001b[32mEmployee\u001b[39m] = \u001b[33mList\u001b[39m(\n",
       "  \u001b[33mEmployee\u001b[39m(\n",
       "    sno = \u001b[32m1\u001b[39m,\n",
       "    name = \u001b[32m\"John Doe\"\u001b[39m,\n",
       "    city = \u001b[32m\"New York\"\u001b[39m,\n",
       "    salary = \u001b[32m60000\u001b[39m,\n",
       "    department = \u001b[32m\"Marketing\"\u001b[39m\n",
       "  ),\n",
       "  \u001b[33mEmployee\u001b[39m(\n",
       "    sno = \u001b[32m6\u001b[39m,\n",
       "    name = \u001b[32m\"Emily Taylor\"\u001b[39m,\n",
       "    city = \u001b[32m\"Miami\"\u001b[39m,\n",
       "    salary = \u001b[32m54000\u001b[39m,\n",
       "    department = \u001b[32m\"Sales\"\u001b[39m\n",
       "  ),\n",
       "  \u001b[33mEmployee\u001b[39m(\n",
       "    sno = \u001b[32m7\u001b[39m,\n",
       "    name = \u001b[32m\"James Wilson\"\u001b[39m,\n",
       "    city = \u001b[32m\"Dallas\"\u001b[39m,\n",
       "    salary = \u001b[32m59000\u001b[39m,\n",
       "    department = \u001b[32m\"Marketing\"\u001b[39m\n",
       "  ),\n",
       "  \u001b[33mEmployee\u001b[39m(\n",
       "    sno = \u001b[32m12\u001b[39m,\n",
       "    name = \u001b[32m\"Sophia Hernandez\"\u001b[39m,\n",
       "    city = \u001b[32m\"Phoenix\"\u001b[39m,\n",
       "    salary = \u001b[32m60000\u001b[39m,\n",
       "    department = \u001b[32m\"Sales\"\u001b[39m\n",
       "  ),\n",
       "  \u001b[33mEmployee\u001b[39m(\n",
       "    sno = \u001b[32m13\u001b[39m,\n",
       "    name = \u001b[32m\"Alexander Lopez\"\u001b[39m,\n",
       "    city = \u001b[32m\"Philadelphia\"\u001b[39m,\n",
       "    salary = \u001b[32m56000\u001b[39m,\n",
       "    department = \u001b[32m\"Marketing\"\u001b[39m\n",
       "  ),\n",
       "  \u001b[33mEmployee\u001b[39m(\n",
       "    sno = \u001b[32m18\u001b[39m,\n",
       "    name = \u001b[32m\"Ava Ramirez\"\u001b[39m,\n",
       "...\n",
       "\u001b[36memployeeList\u001b[39m: \u001b[32mList\u001b[39m[\u001b[32mEmployee\u001b[39m] = \u001b[33mList\u001b[39m(\n",
       "  \u001b[33mEmployee\u001b[39m(\n",
       "    sno = \u001b[32m6\u001b[39m,\n",
       "    name = \u001b[32m\"Emily Taylor\"\u001b[39m,\n",
       "    city = \u001b[32m\"Miami\"\u001b[39m,\n",
       "    salary = \u001b[32m54000\u001b[39m,\n",
       "    department = \u001b[32m\"Sales\"\u001b[39m\n",
       "  ),\n",
       "  \u001b[33mEmployee\u001b[39m(\n",
       "    sno = \u001b[32m40\u001b[39m,\n",
       "    name = \u001b[32m\"Layla Cooper\"\u001b[39m,\n",
       "    city = \u001b[32m\"Miami\"\u001b[39m,\n",
       "    salary = \u001b[32m56000\u001b[39m,\n",
       "    department = \u001b[32m\"Engineering\"\u001b[39m\n",
       "  )\n",
       ")"
      ]
     },
     "execution_count": 14,
     "metadata": {},
     "output_type": "execute_result"
    }
   ],
   "source": [
    "val filteredEmployeeList = employees.filter(emp => emp.salary > 50000 && (emp.department == \"Sales\" || emp.department == \"Marketing\"))\n",
    "val employeeList = employees.filter(emp => emp.city == \"Miami\")"
   ]
  },
  {
   "cell_type": "markdown",
   "metadata": {},
   "source": [
    "## Perform map operations to produce formatted report"
   ]
  },
  {
   "cell_type": "code",
   "execution_count": 15,
   "metadata": {},
   "outputs": [
    {
     "name": "stdout",
     "output_type": "stream",
     "text": [
      "Sales and Marketing department employess with earning greater than 50000: \n",
      "John Doe from New York earns 60000\n",
      "Emily Taylor from Miami earns 54000\n",
      "James Wilson from Dallas earns 59000\n",
      "Sophia Hernandez from Phoenix earns 60000\n",
      "Alexander Lopez from Philadelphia earns 56000\n",
      "Ava Ramirez from San Diego earns 64000\n",
      "Logan Sanders from Washington earns 57000\n",
      "Lincoln Taylor from Indianapolis earns 62000\n",
      "Sofia Cooper from Louisville earns 54000\n",
      "Carter Hughes from Oklahoma City earns 61000\n",
      "Aria Nelson from Tucson earns 57000\n",
      "Leah Watson from Atlanta earns 62000\n",
      "Riley Brooks from Colorado Springs earns 54000\n",
      "Penelope Coleman from Oakland earns 58000\n",
      "Lincoln Powell from Minneapolis earns 65000\n",
      "Ellie Howard from Anaheim earns 62000\n",
      "Liam Wright from Pittsburgh earns 56000\n",
      "\n",
      "List of employees from Miami:\n",
      "Emily Taylor from Miami earns 54000\n",
      "Layla Cooper from Miami earns 56000\n"
     ]
    },
    {
     "data": {
      "text/plain": [
       "\u001b[36mreport1\u001b[39m: \u001b[32mList\u001b[39m[\u001b[32mString\u001b[39m] = \u001b[33mList\u001b[39m(\n",
       "  \u001b[32m\"John Doe from New York earns 60000\"\u001b[39m,\n",
       "  \u001b[32m\"Emily Taylor from Miami earns 54000\"\u001b[39m,\n",
       "  \u001b[32m\"James Wilson from Dallas earns 59000\"\u001b[39m,\n",
       "  \u001b[32m\"Sophia Hernandez from Phoenix earns 60000\"\u001b[39m,\n",
       "  \u001b[32m\"Alexander Lopez from Philadelphia earns 56000\"\u001b[39m,\n",
       "  \u001b[32m\"Ava Ramirez from San Diego earns 64000\"\u001b[39m,\n",
       "  \u001b[32m\"Logan Sanders from Washington earns 57000\"\u001b[39m,\n",
       "  \u001b[32m\"Lincoln Taylor from Indianapolis earns 62000\"\u001b[39m,\n",
       "  \u001b[32m\"Sofia Cooper from Louisville earns 54000\"\u001b[39m,\n",
       "  \u001b[32m\"Carter Hughes from Oklahoma City earns 61000\"\u001b[39m,\n",
       "  \u001b[32m\"Aria Nelson from Tucson earns 57000\"\u001b[39m,\n",
       "  \u001b[32m\"Leah Watson from Atlanta earns 62000\"\u001b[39m,\n",
       "  \u001b[32m\"Riley Brooks from Colorado Springs earns 54000\"\u001b[39m,\n",
       "  \u001b[32m\"Penelope Coleman from Oakland earns 58000\"\u001b[39m,\n",
       "  \u001b[32m\"Lincoln Powell from Minneapolis earns 65000\"\u001b[39m,\n",
       "  \u001b[32m\"Ellie Howard from Anaheim earns 62000\"\u001b[39m,\n",
       "  \u001b[32m\"Liam Wright from Pittsburgh earns 56000\"\u001b[39m\n",
       ")\n",
       "\u001b[36mreport2\u001b[39m: \u001b[32mList\u001b[39m[\u001b[32mString\u001b[39m] = \u001b[33mList\u001b[39m(\n",
       "  \u001b[32m\"Emily Taylor from Miami earns 54000\"\u001b[39m,\n",
       "  \u001b[32m\"Layla Cooper from Miami earns 56000\"\u001b[39m\n",
       ")"
      ]
     },
     "execution_count": 15,
     "metadata": {},
     "output_type": "execute_result"
    }
   ],
   "source": [
    "val report1 = filteredEmployeeList.map(emp => s\"${emp.name} from ${emp.city} earns ${emp.salary}\")\n",
    "println(\"Sales and Marketing department employess with earning greater than 50000: \")\n",
    "report1.foreach(emp => println(emp))\n",
    "println()\n",
    "val report2 = employeeList.map(emp => s\"${emp.name} from ${emp.city} earns ${emp.salary}\")\n",
    "println(\"List of employees from Miami:\")\n",
    "report2.foreach(emp => println(emp))\n"
   ]
  },
  {
   "cell_type": "markdown",
   "metadata": {},
   "source": [
    "## Perform reduce operation to find total Salary, average Salary, number of employees department wise"
   ]
  },
  {
   "cell_type": "code",
   "execution_count": 19,
   "metadata": {},
   "outputs": [
    {
     "name": "stdout",
     "output_type": "stream",
     "text": [
      "Total Salary of all employees: 2943000\n",
      "Average Salary of all employees: 58860.0\n",
      "Department wise summary:\n",
      "Department: Engineering has 8 number of employees with Total Salary: 494000 and Average Salary: 61750.0\n",
      "Department: Operations has 8 number of employees with Total Salary: 444000 and Average Salary: 55500.0\n",
      "Department: Sales has 8 number of employees with Total Salary: 483000 and Average Salary: 60375.0\n",
      "Department: Marketing has 9 number of employees with Total Salary: 518000 and Average Salary: 57555.555555555555\n",
      "Department: HR has 8 number of employees with Total Salary: 462000 and Average Salary: 57750.0\n",
      "Department: Finance has 9 number of employees with Total Salary: 542000 and Average Salary: 60222.22222222222\n"
     ]
    },
    {
     "data": {
      "text/plain": [
       "\u001b[36mtotalSalary\u001b[39m: \u001b[32mInt\u001b[39m = \u001b[32m2943000\u001b[39m\n",
       "\u001b[36maverageSalary\u001b[39m: \u001b[32mDouble\u001b[39m = \u001b[32m58860.0\u001b[39m\n",
       "\u001b[36mres19_5\u001b[39m: \u001b[32mcollection\u001b[39m.\u001b[32mimmutable\u001b[39m.\u001b[32mIterable\u001b[39m[\u001b[32mUnit\u001b[39m] = \u001b[33mList\u001b[39m((), (), (), (), (), ())"
      ]
     },
     "execution_count": 19,
     "metadata": {},
     "output_type": "execute_result"
    }
   ],
   "source": [
    "val totalSalary = employees.map(_.salary).sum\n",
    "val averageSalary = totalSalary.toDouble / employees.length\n",
    "println(s\"Total Salary of all employees: $totalSalary\")\n",
    "println(s\"Average Salary of all employees: $averageSalary\")\n",
    "\n",
    "println(\"Department wise summary:\")\n",
    "\n",
    "employees.groupBy(_.department).map { case (dept, emps) =>\n",
    "val noOfEmployees = emps.length\n",
    "val totalDeptSalary = emps.map(_.salary).sum\n",
    "val avgDeptSalary = totalDeptSalary.toDouble / noOfEmployees\n",
    "  println(s\"Department: $dept has $noOfEmployees number of employees with Total Salary: $totalDeptSalary and Average Salary: $avgDeptSalary\")\n",
    "}\n"
   ]
  }
 ],
 "metadata": {
  "kernelspec": {
   "display_name": "Scala",
   "language": "scala",
   "name": "scala"
  },
  "language_info": {
   "codemirror_mode": "text/x-scala",
   "file_extension": ".sc",
   "mimetype": "text/x-scala",
   "name": "scala",
   "nbconvert_exporter": "script",
   "version": "2.13.14"
  }
 },
 "nbformat": 4,
 "nbformat_minor": 2
}
