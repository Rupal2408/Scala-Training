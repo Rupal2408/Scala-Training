{
 "cells": [
  {
   "cell_type": "markdown",
   "metadata": {},
   "source": [
    "### Task"
   ]
  },
  {
   "cell_type": "code",
   "execution_count": 12,
   "metadata": {},
   "outputs": [
    {
     "name": "stdout",
     "output_type": "stream",
     "text": [
      "Executing background job: \n",
      "Executing after 10s\n"
     ]
    },
    {
     "data": {
      "text/plain": [
       "defined \u001b[32mclass\u001b[39m \u001b[36mJobRunner\u001b[39m\n",
       "defined \u001b[32mobject\u001b[39m \u001b[36mJobRunner\u001b[39m\n",
       "\u001b[36mjob\u001b[39m: \u001b[32mJobRunner\u001b[39m = \u001b[33mJobRunner\u001b[39m(\n",
       "  msg = \u001b[32m\"Executing background job: \"\u001b[39m,\n",
       "  timeInSeconds = \u001b[32m10000\u001b[39m\n",
       ")"
      ]
     },
     "execution_count": 12,
     "metadata": {},
     "output_type": "execute_result"
    }
   ],
   "source": [
    "case class JobRunner(msg: String, timeInSeconds: Int)(logic: => Unit)\n",
    "\n",
    "object JobRunner {\n",
    "    def apply(msg: String, timeInSeconds: Int)(logic: => Unit): JobRunner = {\n",
    "        println(msg)\n",
    "        Thread.sleep(timeInSeconds)\n",
    "        logic\n",
    "        new JobRunner(msg, timeInSeconds)(logic)\n",
    "    }\n",
    "}\n",
    "\n",
    "val job = JobRunner(\"Executing background job: \", 10000){\n",
    "    println(\"Executing after 10s\")\n",
    "}\n",
    "\n",
    "// Parameters in the first list of parameters is not accessible directly in the block which part of second list of parameters"
   ]
  }
 ],
 "metadata": {
  "kernelspec": {
   "display_name": "Scala",
   "language": "scala",
   "name": "scala"
  },
  "language_info": {
   "codemirror_mode": "text/x-scala",
   "file_extension": ".sc",
   "mimetype": "text/x-scala",
   "name": "scala",
   "nbconvert_exporter": "script",
   "version": "2.13.14"
  }
 },
 "nbformat": 4,
 "nbformat_minor": 2
}
